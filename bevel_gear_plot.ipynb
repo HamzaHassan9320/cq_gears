{
 "cells": [
  {
   "cell_type": "code",
   "execution_count": 1,
   "id": "727b1b96-0f09-40c3-80a9-32c876a4867b",
   "metadata": {},
   "outputs": [],
   "source": [
    "import numpy as np\n",
    "import matplotlib.pyplot as plt\n",
    "from matplotlib.animation import FuncAnimation\n",
    "from mpl_toolkits.mplot3d import Axes3D\n",
    "\n",
    "from cq_gears import BevelGear\n",
    "\n",
    "%matplotlib widget"
   ]
  },
  {
   "cell_type": "code",
   "execution_count": 5,
   "id": "911654b5-60cc-4212-bca9-f8bdbd8d35d4",
   "metadata": {},
   "outputs": [],
   "source": [
    "def plot_sphere(subplot, r, color='#aaa', alpha=0.1):\n",
    "    n = 24\n",
    "    u = np.linspace(0.0, 2.0 * np.pi, n)\n",
    "    v = np.linspace(0.0, np.pi, n)\n",
    "    x = r * np.outer(np.cos(u), np.sin(v))\n",
    "    y = r * np.outer(np.sin(u), np.sin(v))\n",
    "    z = r * np.outer(np.ones(np.size(u)), np.cos(v))\n",
    "    ax.plot_surface(x, y, z, color=color, alpha=alpha)\n",
    "    "
   ]
  },
  {
   "cell_type": "code",
   "execution_count": 7,
   "id": "0159bd3c-17fa-459c-ab1f-30e3cc41676c",
   "metadata": {},
   "outputs": [
    {
     "data": {
      "application/vnd.jupyter.widget-view+json": {
       "model_id": "e207676f34fb4141bb9b966916d2002c",
       "version_major": 2,
       "version_minor": 0
      },
      "text/plain": [
       "Canvas(toolbar=Toolbar(toolitems=[('Home', 'Reset original view', 'home', 'home'), ('Back', 'Back to previous …"
      ]
     },
     "metadata": {},
     "output_type": "display_data"
    },
    {
     "data": {
      "text/plain": [
       "[<mpl_toolkits.mplot3d.art3d.Line3D at 0x7fea612361c0>]"
      ]
     },
     "execution_count": 7,
     "metadata": {},
     "output_type": "execute_result"
    }
   ],
   "source": [
    "gear = BevelGear(1.0, 9, 45.0, 10.0)\n",
    "\n",
    "fig = plt.figure()\n",
    "ax = fig.add_subplot(111, projection='3d')\n",
    "\n",
    "plot_sphere(ax, gear.gs_r)\n",
    "\n",
    "x, y, z = gear.gear_points_xyz()\n",
    "ax.plot3D(x, y, z)"
   ]
  }
 ],
 "metadata": {
  "kernelspec": {
   "display_name": "Python 3 (ipykernel)",
   "language": "python",
   "name": "python3"
  },
  "language_info": {
   "codemirror_mode": {
    "name": "ipython",
    "version": 3
   },
   "file_extension": ".py",
   "mimetype": "text/x-python",
   "name": "python",
   "nbconvert_exporter": "python",
   "pygments_lexer": "ipython3",
   "version": "3.9.6"
  }
 },
 "nbformat": 4,
 "nbformat_minor": 5
}
