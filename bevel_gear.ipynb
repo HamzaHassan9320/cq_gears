{
 "cells": [
  {
   "cell_type": "code",
   "execution_count": null,
   "id": "edd51aa6-425b-49d3-9f96-950238558f0d",
   "metadata": {},
   "outputs": [],
   "source": [
    "import cadquery as cq\n",
    "from jupyter_cadquery.cadquery import show, replay, enable_replay\n",
    "from jupyter_cadquery import set_defaults\n",
    "\n",
    "set_defaults(display='cell', axes=False, axes0=True, grid=True,\n",
    "             default_color='lightgrey', tools=False)\n",
    "enable_replay(True)\n",
    "\n",
    "from cq_gears import BevelGear, SpurGear\n",
    "\n",
    "import numpy as np"
   ]
  },
  {
   "cell_type": "markdown",
   "id": "af102da0-b07e-40ad-ad2d-75151e5f5a4c",
   "metadata": {},
   "source": [
    "## Straight Bevel Gear"
   ]
  },
  {
   "cell_type": "code",
   "execution_count": null,
   "id": "7ddef74b-502e-4627-b073-cde0ccd0516e",
   "metadata": {},
   "outputs": [],
   "source": [
    "gear = BevelGear(module=1.0,\n",
    "                 teeth_number=11,\n",
    "                 cone_angle=45.0,\n",
    "                 face_width=3.0)\n",
    "\n",
    "g = gear.build(bore_d=3.0)\n",
    "\n",
    "show(g)"
   ]
  },
  {
   "cell_type": "markdown",
   "id": "94bc567d-78e7-4b5c-a855-cef59febd694",
   "metadata": {},
   "source": [
    "## Helical Bevel Gear"
   ]
  },
  {
   "cell_type": "code",
   "execution_count": null,
   "id": "f052f9e4-184b-4e36-8a15-16fcf8264071",
   "metadata": {},
   "outputs": [],
   "source": [
    "gear = BevelGear(module=1.0,\n",
    "                 teeth_number=19,\n",
    "                 cone_angle=45.0,\n",
    "                 face_width=7.0,\n",
    "                 helix_angle=30.0,\n",
    "                 curve_points=20, surface_splines=15)\n",
    "\n",
    "g = gear.build(bore_d=6.0, trim_bottom=True, trim_top=True)\n",
    "show(g)\n"
   ]
  },
  {
   "cell_type": "code",
   "execution_count": null,
   "id": "c93e17cb-f6b9-45ad-9d20-df454f4e644f",
   "metadata": {},
   "outputs": [],
   "source": []
  }
 ],
 "metadata": {
  "kernelspec": {
   "display_name": "Python 3",
   "language": "python",
   "name": "python3"
  },
  "language_info": {
   "codemirror_mode": {
    "name": "ipython",
    "version": 3
   },
   "file_extension": ".py",
   "mimetype": "text/x-python",
   "name": "python",
   "nbconvert_exporter": "python",
   "pygments_lexer": "ipython3",
   "version": "3.9.6"
  }
 },
 "nbformat": 4,
 "nbformat_minor": 5
}
