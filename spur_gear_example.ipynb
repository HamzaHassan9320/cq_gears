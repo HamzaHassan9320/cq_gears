{
 "cells": [
  {
   "cell_type": "code",
   "execution_count": null,
   "id": "3f8cacde-668f-4452-b69e-9bb4b54efa04",
   "metadata": {},
   "outputs": [],
   "source": [
    "import cadquery as cq\n",
    "from jupyter_cadquery.cadquery import show\n",
    "from jupyter_cadquery import set_defaults\n",
    "\n",
    "set_defaults(display='cell', axes=False, axes0=True, grid=True,\n",
    "             default_color='lightgrey', tools=False)\n",
    "\n",
    "from cq_gears import SpurGear, HerringboneGear"
   ]
  },
  {
   "cell_type": "markdown",
   "id": "11cfd090-afcb-49e1-b518-51dbe4ce08ba",
   "metadata": {},
   "source": [
    "## Spur Gear"
   ]
  },
  {
   "cell_type": "code",
   "execution_count": null,
   "id": "1ce69d02-eeb6-4da1-951e-884d51f2bc2d",
   "metadata": {
    "tags": []
   },
   "outputs": [],
   "source": [
    "gear_builder = SpurGear(module=1.0, teeth_number=20, width=5.0,\n",
    "                        pressure_angle=20.0)\n",
    "\n",
    "gear = gear_builder.build(bore_d=5.0)\n",
    "show(gear)"
   ]
  },
  {
   "cell_type": "markdown",
   "id": "2afaab2f-a78b-48cb-a0e8-8482827b6301",
   "metadata": {},
   "source": [
    "## Helical Gear"
   ]
  },
  {
   "cell_type": "code",
   "execution_count": null,
   "id": "70117e9a-d1db-4261-9acc-292dde3043b6",
   "metadata": {
    "tags": []
   },
   "outputs": [],
   "source": [
    "gear_builder = SpurGear(module=1.0, teeth_number=29, width=8.0,\n",
    "                        pressure_angle=20.0, helix_angle=-40.0)\n",
    "\n",
    "gear = gear_builder.build(bore_d=5.0)\n",
    "show(gear)"
   ]
  },
  {
   "cell_type": "markdown",
   "id": "8edb3821-4278-43ec-9e59-7ad15871e595",
   "metadata": {},
   "source": [
    "## Herringbone Gear"
   ]
  },
  {
   "cell_type": "code",
   "execution_count": null,
   "id": "abcc4824-3aa3-4eaa-899f-1f87ae0e4325",
   "metadata": {},
   "outputs": [],
   "source": [
    "gear_builder = HerringboneGear(module=1.0, teeth_number=42, width=10.0,\n",
    "                               pressure_angle=20.0, helix_angle=-20.0)\n",
    "\n",
    "gear = gear_builder.build(bore_d=10.0)\n",
    "show(gear)"
   ]
  },
  {
   "cell_type": "markdown",
   "id": "5a4ce612-5b36-411d-865d-51a1d7defb7a",
   "metadata": {},
   "source": [
    "## Beaten up Spur Gear"
   ]
  },
  {
   "cell_type": "code",
   "execution_count": null,
   "id": "b2581e5b-936f-41b9-8ef4-e1be05d1460c",
   "metadata": {},
   "outputs": [],
   "source": [
    "gear_builder = SpurGear(module=1.0, teeth_number=20, width=5.0,\n",
    "                        pressure_angle=20.0)\n",
    "\n",
    "# Build a gear with some missing teeth\n",
    "gear = gear_builder.build(bore_d=5.0, missing_teeth=(0, 10))\n",
    "show(gear)"
   ]
  },
  {
   "cell_type": "markdown",
   "id": "bd5f9ad2-bc82-4c01-bca0-4a0fa6c33f6d",
   "metadata": {},
   "source": [
    "## Helical Gear with extended hub and some removed material"
   ]
  },
  {
   "cell_type": "code",
   "execution_count": null,
   "id": "c2bc8e65-ad02-4283-b037-b07e4b1a8d56",
   "metadata": {},
   "outputs": [],
   "source": [
    "gear_builder = SpurGear(module=1.0, teeth_number=60, width=8.0,\n",
    "                        pressure_angle=20.0, helix_angle=45.0)\n",
    "\n",
    "gear = gear_builder.build(bore_d=10.0, hub_d=16.0, hub_length=10.0,\n",
    "                          recess_d=52.0, recess=3.0, n_spokes=5,\n",
    "                          spoke_width=6.0, spoke_fillet=4.0,\n",
    "                          spokes_id=23.0, spokes_od=48.0)\n",
    "show(gear)"
   ]
  },
  {
   "cell_type": "code",
   "execution_count": null,
   "id": "ca98adce-8448-4a1e-b286-3584457480a0",
   "metadata": {},
   "outputs": [],
   "source": []
  }
 ],
 "metadata": {
  "kernelspec": {
   "display_name": "Python 3",
   "language": "python",
   "name": "python3"
  },
  "language_info": {
   "codemirror_mode": {
    "name": "ipython",
    "version": 3
   },
   "file_extension": ".py",
   "mimetype": "text/x-python",
   "name": "python",
   "nbconvert_exporter": "python",
   "pygments_lexer": "ipython3",
   "version": "3.9.6"
  },
  "widgets": {
   "application/vnd.jupyter.widget-state+json": {
    "state": {},
    "version_major": 2,
    "version_minor": 0
   }
  }
 },
 "nbformat": 4,
 "nbformat_minor": 5
}
