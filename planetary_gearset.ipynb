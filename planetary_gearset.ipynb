{
 "cells": [
  {
   "cell_type": "code",
   "execution_count": 2,
   "id": "7c542590-e378-4a15-b28b-0d89bfbec1ff",
   "metadata": {},
   "outputs": [],
   "source": [
    "import cadquery as cq\n",
    "from jupyter_cadquery.cadquery import show, PartGroup, Part\n",
    "from jupyter_cadquery import set_defaults\n",
    "from math import pi, sin, cos, degrees\n",
    "\n",
    "set_defaults(display='cell', axes=False, axes0=True, grid=True,\n",
    "             default_color='lightgrey', tools=False)\n",
    "\n",
    "from cq_gears import PlanetaryGearset, HerringbonePlanetaryGearset"
   ]
  },
  {
   "cell_type": "markdown",
   "id": "9b240e8c-2edd-43f7-b413-8e0276e44830",
   "metadata": {},
   "source": [
    "## Planetary gearset with 3 planets"
   ]
  },
  {
   "cell_type": "code",
   "execution_count": 4,
   "id": "6139c834-8d56-45c4-a0cb-7ca7e6d834e6",
   "metadata": {},
   "outputs": [
    {
     "data": {
      "application/vnd.jupyter.widget-view+json": {
       "model_id": "f2e437b8f70047259efc57210a747834",
       "version_major": 2,
       "version_minor": 0
      },
      "text/plain": [
       "Renderer(camera=CombinedCamera(far=100.0, height=600.0, mode='orthographic', orthoFar=100.0, position=(1.0, 1.…"
      ]
     },
     "metadata": {},
     "output_type": "display_data"
    },
    {
     "data": {
      "text/plain": [
       "<jupyter_cadquery.cad_display.CadqueryDisplay at 0x7f67864d5250>"
      ]
     },
     "execution_count": 4,
     "metadata": {},
     "output_type": "execute_result"
    }
   ],
   "source": [
    "gearset = PlanetaryGearset(module=1.0,\n",
    "                           sun_teeth_number=12,\n",
    "                           planet_teeth_number=18,\n",
    "                           width=10.0,\n",
    "                           rim_width=3.0,\n",
    "                           n_planets=3)\n",
    "\n",
    "gs = gearset.build(bore_d=6.0)\n",
    "\n",
    "show(gs)"
   ]
  },
  {
   "cell_type": "markdown",
   "id": "aa186350-44c8-483a-bb1c-da7718eb1bb1",
   "metadata": {},
   "source": [
    "## Herringbone Planetary Gearset with 4 planets"
   ]
  },
  {
   "cell_type": "code",
   "execution_count": 9,
   "id": "1ff12048-b411-4ce3-8428-be11c7d9a128",
   "metadata": {},
   "outputs": [
    {
     "data": {
      "application/vnd.jupyter.widget-view+json": {
       "model_id": "ae89fffae033490dbb78c7a739fdbbfe",
       "version_major": 2,
       "version_minor": 0
      },
      "text/plain": [
       "Renderer(camera=CombinedCamera(far=100.0, height=600.0, mode='orthographic', orthoFar=100.0, position=(1.0, 1.…"
      ]
     },
     "metadata": {},
     "output_type": "display_data"
    },
    {
     "data": {
      "text/plain": [
       "<jupyter_cadquery.cad_display.CadqueryDisplay at 0x7f677c7a62b0>"
      ]
     },
     "execution_count": 9,
     "metadata": {},
     "output_type": "execute_result"
    }
   ],
   "source": [
    "gearset = HerringbonePlanetaryGearset(module=1.0,\n",
    "                                      sun_teeth_number=18,\n",
    "                                      planet_teeth_number=18,\n",
    "                                      width=10.0,\n",
    "                                      rim_width=3.0,\n",
    "                                      n_planets=4,\n",
    "                                      helix_angle=30.0,\n",
    "                                      backlash=0.3,\n",
    "                                      clearance=0.2)\n",
    "gs = gearset.build(bore_d=6.0)\n",
    "\n",
    "show(gs)"
   ]
  },
  {
   "cell_type": "code",
   "execution_count": null,
   "id": "47edbcca-5e6b-474f-a024-6e09ff93b767",
   "metadata": {},
   "outputs": [],
   "source": []
  }
 ],
 "metadata": {
  "kernelspec": {
   "display_name": "Python 3",
   "language": "python",
   "name": "python3"
  },
  "language_info": {
   "codemirror_mode": {
    "name": "ipython",
    "version": 3
   },
   "file_extension": ".py",
   "mimetype": "text/x-python",
   "name": "python",
   "nbconvert_exporter": "python",
   "pygments_lexer": "ipython3",
   "version": "3.9.6"
  }
 },
 "nbformat": 4,
 "nbformat_minor": 5
}
