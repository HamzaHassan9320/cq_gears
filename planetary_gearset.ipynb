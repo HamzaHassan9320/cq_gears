{
 "cells": [
  {
   "cell_type": "code",
   "execution_count": 1,
   "id": "7c542590-e378-4a15-b28b-0d89bfbec1ff",
   "metadata": {},
   "outputs": [
    {
     "name": "stdout",
     "output_type": "stream",
     "text": [
      "Overwriting auto display for cadquery Workplane and Shape\n"
     ]
    }
   ],
   "source": [
    "import cadquery as cq\n",
    "from jupyter_cadquery.cadquery import show, PartGroup, Part\n",
    "from jupyter_cadquery import set_defaults\n",
    "from math import pi, sin, cos, degrees\n",
    "\n",
    "set_defaults(display='cell', axes=False, axes0=True, grid=True,\n",
    "             default_color='lightgrey', tools=False)\n",
    "\n",
    "from cq_gears import PlanetaryGearset, HerringbonePlanetaryGearset"
   ]
  },
  {
   "cell_type": "markdown",
   "id": "9b240e8c-2edd-43f7-b413-8e0276e44830",
   "metadata": {},
   "source": [
    "## Planetary gearset with 3 planets"
   ]
  },
  {
   "cell_type": "code",
   "execution_count": 2,
   "id": "6139c834-8d56-45c4-a0cb-7ca7e6d834e6",
   "metadata": {},
   "outputs": [
    {
     "data": {
      "application/vnd.jupyter.widget-view+json": {
       "model_id": "cf9620d78f914678bd43b4f290207ea0",
       "version_major": 2,
       "version_minor": 0
      },
      "text/plain": [
       "Renderer(camera=CombinedCamera(far=100.0, height=600.0, mode='orthographic', orthoFar=100.0, position=(1.0, 1.…"
      ]
     },
     "metadata": {},
     "output_type": "display_data"
    },
    {
     "data": {
      "text/html": [
       "<style>\n",
       ".scroll-area {\n",
       "    overflow: scroll !important;\n",
       "    border: unset !important;\n",
       "}\n",
       "\n",
       ".mac-scrollbar::-webkit-scrollbar {\n",
       "    width: 5px !important;\n",
       "    height: 5px !important;\n",
       "}\n",
       "\n",
       ".mac-scrollbar::-webkit-scrollbar-track {\n",
       "    background-color: transparent !important;\n",
       "}\n",
       "\n",
       ".mac-scrollbar .widget-html-content {\n",
       "    overflow-x: visible;\n",
       "    overflow-y: visible;\n",
       "}\n",
       "\n",
       ".tab-content-no-padding .widget-tab-contents {\n",
       "    overflow-x: visible !important;\n",
       "    overflow-y: visible !important;\n",
       "    padding-bottom: 0px !important;\n",
       "}\n",
       "\n",
       ".view_renderer {\n",
       "    border: 1px solid var(--jp-border-color1);\n",
       "    margin-top: 3px;\n",
       "    margin-left: 2px;\n",
       "}\n",
       "\n",
       ".view_tree {\n",
       "    padding: 0px !important;\n",
       "}\n",
       "\n",
       ".view_axes {\n",
       "    width: 60px !important;\n",
       "    margin-left: 5px !important;\n",
       "}\n",
       "\n",
       ".view_zero {\n",
       "    width: 55px !important;\n",
       "}\n",
       "\n",
       ".view_grid {\n",
       "    width: 56px !important;\n",
       "}\n",
       "\n",
       ".view_ortho {\n",
       "    width: 64px !important;\n",
       "}\n",
       "\n",
       ".view_transparent {\n",
       "    width: 125px !important;\n",
       "}\n",
       "\n",
       ".view_black_edges {\n",
       "    width: 105px !important;\n",
       "}\n",
       "\n",
       ".view_button {\n",
       "    padding: 0px !important;\n",
       "}\n",
       "\n",
       ".view_button>img {\n",
       "    height: 28px;\n",
       "    width: 36px;\n",
       "}\n",
       "\n",
       ".node_entry_wrap {\n",
       "    white-space: pre;\n",
       "}\n",
       "\n",
       ".node_entry {\n",
       "    white-space: nowrap;\n",
       "    padding-top: 4px;\n",
       "}\n",
       "\n",
       ".t-caret {\n",
       "    cursor: pointer;\n",
       "    -webkit-user-select: none;\n",
       "    /* Safari 3.1+ */\n",
       "    -moz-user-select: none;\n",
       "    /* Firefox 2+ */\n",
       "    -ms-user-select: none;\n",
       "    /* IE 10+ */\n",
       "    user-select: none;\n",
       "}\n",
       "\n",
       ".t-caret-down::before {\n",
       "    -ms-transform: rotate(90deg);\n",
       "    /* IE 9 */\n",
       "    -webkit-transform: rotate(90deg);\n",
       "    /* Safari */\n",
       "    transform: rotate(90deg);\n",
       "}\n",
       "\n",
       ".toplevel {\n",
       "    list-style-type: none;\n",
       "    padding-inline-start: 0px;\n",
       "}\n",
       "\n",
       ".nested {\n",
       "    display: none;\n",
       "    list-style-type: none;\n",
       "    padding-inline-start: 16px;\n",
       "}\n",
       "\n",
       ".active {\n",
       "    display: block;\n",
       "}\n",
       "\n",
       ".icon {\n",
       "    width: 28px !important;\n",
       "    height: 22px !important;\n",
       "    padding-right: 2px;\n",
       "    vertical-align: middle;\n",
       "}\n",
       "\n",
       ".indent {\n",
       "    margin-left: 12px;\n",
       "}\n",
       "\n",
       ".tree_label {\n",
       "    padding-left: 2px;\n",
       "    font-size: 14px;\n",
       "}\n",
       "\n",
       ".scroll_down {\n",
       "    display: flex;\n",
       "    flex-direction: column-reverse;\n",
       "}\n",
       "\n",
       ".small_table {\n",
       "    line-height: 14px;\n",
       "}\n",
       "\n",
       ".monospace select {\n",
       "    font-family: monospace;\n",
       "}\n",
       "\n",
       "        .t-caret::before {\n",
       "            content: u\"▶\";\n",
       "            font-size: 12px;\n",
       "            color: \"#080808\";\n",
       "            display: inline-block;\n",
       "            margin-right: 2px;\n",
       "        }\n",
       "\n",
       "        .mac-scrollbar::-webkit-scrollbar-thumb {\n",
       "            background-color: rgba(0, 0, 0, 0.2) !important;\n",
       "            border-radius: 100px !important;\n",
       "        }\n",
       "\n",
       "        .mac-scrollbar::-webkit-scrollbar-thumb:hover {\n",
       "            background: rgba(0, 0, 0, 0.4) !important;\n",
       "        }\n",
       "\n",
       "        .mac-scrollbar::-webkit-scrollbar-thumb:active {\n",
       "            background: #181818 !important;\n",
       "        }\n",
       "\n",
       "        .mac-scrollbar::-webkit-scrollbar-corner {\n",
       "            background: white;\n",
       "        }\n",
       "\n",
       "        .view_output {\n",
       "            border: 1px solid var(--jp-border-color1);\n",
       "            margin: 2px 2px 2px 2px !important;\n",
       "            padding-right: 1px !important;\n",
       "            background-color: white;\n",
       "        }\n",
       "    </style>"
      ],
      "text/plain": [
       "<IPython.core.display.HTML object>"
      ]
     },
     "metadata": {},
     "output_type": "display_data"
    },
    {
     "data": {
      "text/plain": [
       "<jupyter_cadquery.cad_display.CadqueryDisplay at 0x7f4ef0912490>"
      ]
     },
     "execution_count": 2,
     "metadata": {},
     "output_type": "execute_result"
    }
   ],
   "source": [
    "gearset = PlanetaryGearset(module=1.0,\n",
    "                           sun_teeth_number=12,\n",
    "                           planet_teeth_number=18,\n",
    "                           width=10.0,\n",
    "                           rim_width=3.0,\n",
    "                           n_planets=3)\n",
    "\n",
    "gs = gearset.build(bore_d=6.0)\n",
    "\n",
    "show(gs)"
   ]
  },
  {
   "cell_type": "markdown",
   "id": "aa186350-44c8-483a-bb1c-da7718eb1bb1",
   "metadata": {},
   "source": [
    "## Herringbone Planetary Gearset with 4 planets"
   ]
  },
  {
   "cell_type": "code",
   "execution_count": 3,
   "id": "1ff12048-b411-4ce3-8428-be11c7d9a128",
   "metadata": {},
   "outputs": [
    {
     "data": {
      "application/vnd.jupyter.widget-view+json": {
       "model_id": "763ae83363da40d9a845f0687c4b185f",
       "version_major": 2,
       "version_minor": 0
      },
      "text/plain": [
       "Renderer(camera=CombinedCamera(far=100.0, height=600.0, mode='orthographic', orthoFar=100.0, position=(1.0, 1.…"
      ]
     },
     "metadata": {},
     "output_type": "display_data"
    },
    {
     "data": {
      "text/plain": [
       "<jupyter_cadquery.cad_display.CadqueryDisplay at 0x7f4eef4eb160>"
      ]
     },
     "execution_count": 3,
     "metadata": {},
     "output_type": "execute_result"
    }
   ],
   "source": [
    "gearset = HerringbonePlanetaryGearset(module=1.0,\n",
    "                                      sun_teeth_number=18,\n",
    "                                      planet_teeth_number=18,\n",
    "                                      width=10.0,\n",
    "                                      rim_width=3.0,\n",
    "                                      n_planets=4,\n",
    "                                      helix_angle=30.0,\n",
    "                                      backlash=0.3, # Set backlash and clearance for 3d-prinatability\n",
    "                                      clearance=0.2)\n",
    "gs = gearset.build(bore_d=6.0)\n",
    "\n",
    "show(gs)\n",
    "\n",
    "# Uncomment the following line to export as .stl\n",
    "# gs.val().exportStl('./planetary_gearset.stl')"
   ]
  },
  {
   "cell_type": "markdown",
   "id": "815634a9-bc49-4dd7-8766-693710ad6148",
   "metadata": {},
   "source": [
    "## Double Herringbone Planetary Gearset"
   ]
  },
  {
   "cell_type": "code",
   "execution_count": 4,
   "id": "47edbcca-5e6b-474f-a024-6e09ff93b767",
   "metadata": {},
   "outputs": [
    {
     "data": {
      "application/vnd.jupyter.widget-view+json": {
       "model_id": "ebc5e493849340ef9be7f1009a842520",
       "version_major": 2,
       "version_minor": 0
      },
      "text/plain": [
       "Renderer(camera=CombinedCamera(far=100.0, height=600.0, mode='orthographic', orthoFar=100.0, position=(1.0, 1.…"
      ]
     },
     "metadata": {},
     "output_type": "display_data"
    },
    {
     "data": {
      "text/plain": [
       "<jupyter_cadquery.cad_display.CadqueryDisplay at 0x7f4eef4eb250>"
      ]
     },
     "execution_count": 4,
     "metadata": {},
     "output_type": "execute_result"
    }
   ],
   "source": [
    "# Internal gearset\n",
    "gearset1 = HerringbonePlanetaryGearset(module=2.0,\n",
    "                                       sun_teeth_number=13,\n",
    "                                       planet_teeth_number=7,\n",
    "                                       width=10.0,\n",
    "                                       rim_width=1.0,\n",
    "                                       n_planets=5,\n",
    "                                       helix_angle=30.0,\n",
    "                                       backlash=0.3, # Set backlash and clearance for 3d-prinatability\n",
    "                                       clearance=0.2)\n",
    "\n",
    "gs1 = gearset1.build(bore_d=4.0, sun_build_args={'bore_d': 15.0})\n",
    "\n",
    "# External gearset\n",
    "gearset2 = HerringbonePlanetaryGearset(module=2.0,\n",
    "                                       sun_teeth_number=36,\n",
    "                                       planet_teeth_number=8,\n",
    "                                       width=10.0,\n",
    "                                       rim_width=4.0,\n",
    "                                       n_planets=11,\n",
    "                                       helix_angle=30.0,\n",
    "                                       backlash=0.3,\n",
    "                                       clearance=0.2)\n",
    "gs2 = gearset2.build(bore_d=6.0,\n",
    "                     sun_build_args={\n",
    "                         'bore_d' : gearset1.ring.rim_r * 2.0 - 1.0\n",
    "                     })\n",
    "\n",
    "# It may take some significant amount of time to combine them\n",
    "gs = cq.Workplane('XY').add(gs1).add(gs2).combine()\n",
    "\n",
    "show(gs)\n",
    "\n",
    "# Uncomment the following line to export as .stl\n",
    "# gs.val().exportStl('./double_planetary_gearset.stl')"
   ]
  },
  {
   "cell_type": "code",
   "execution_count": null,
   "id": "62a71758-b9fd-484c-bbd7-d909f8529a7c",
   "metadata": {},
   "outputs": [],
   "source": []
  }
 ],
 "metadata": {
  "kernelspec": {
   "display_name": "Python 3",
   "language": "python",
   "name": "python3"
  },
  "language_info": {
   "codemirror_mode": {
    "name": "ipython",
    "version": 3
   },
   "file_extension": ".py",
   "mimetype": "text/x-python",
   "name": "python",
   "nbconvert_exporter": "python",
   "pygments_lexer": "ipython3",
   "version": "3.9.6"
  }
 },
 "nbformat": 4,
 "nbformat_minor": 5
}
