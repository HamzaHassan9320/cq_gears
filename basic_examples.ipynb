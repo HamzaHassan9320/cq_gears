{
 "cells": [
  {
   "cell_type": "code",
   "execution_count": 7,
   "id": "3f8cacde-668f-4452-b69e-9bb4b54efa04",
   "metadata": {},
   "outputs": [],
   "source": [
    "import cadquery as cq\n",
    "from jupyter_cadquery.cadquery import show\n",
    "from jupyter_cadquery import set_defaults\n",
    "\n",
    "set_defaults(display='cell', axes=False, axes0=True, grid=True,\n",
    "             default_color='lightgrey', tools=False)\n",
    "\n",
    "from cq_gears import SpurGear, HerringboneGear, RingGear, HerringboneRingGear"
   ]
  },
  {
   "cell_type": "markdown",
   "id": "11cfd090-afcb-49e1-b518-51dbe4ce08ba",
   "metadata": {},
   "source": [
    "## Spur Gear"
   ]
  },
  {
   "cell_type": "code",
   "execution_count": 2,
   "id": "1ce69d02-eeb6-4da1-951e-884d51f2bc2d",
   "metadata": {
    "tags": []
   },
   "outputs": [
    {
     "data": {
      "application/vnd.jupyter.widget-view+json": {
       "model_id": "35e39311e0214d9691ddab9b19bce5c5",
       "version_major": 2,
       "version_minor": 0
      },
      "text/plain": [
       "Renderer(camera=CombinedCamera(far=100.0, height=600.0, mode='orthographic', orthoFar=100.0, position=(1.0, 1.…"
      ]
     },
     "metadata": {},
     "output_type": "display_data"
    },
    {
     "data": {
      "text/html": [
       "<style>\n",
       ".scroll-area {\n",
       "    overflow: scroll !important;\n",
       "    border: unset !important;\n",
       "}\n",
       "\n",
       ".mac-scrollbar::-webkit-scrollbar {\n",
       "    width: 5px !important;\n",
       "    height: 5px !important;\n",
       "}\n",
       "\n",
       ".mac-scrollbar::-webkit-scrollbar-track {\n",
       "    background-color: transparent !important;\n",
       "}\n",
       "\n",
       ".mac-scrollbar .widget-html-content {\n",
       "    overflow-x: visible;\n",
       "    overflow-y: visible;\n",
       "}\n",
       "\n",
       ".tab-content-no-padding .widget-tab-contents {\n",
       "    overflow-x: visible !important;\n",
       "    overflow-y: visible !important;\n",
       "    padding-bottom: 0px !important;\n",
       "}\n",
       "\n",
       ".view_renderer {\n",
       "    border: 1px solid var(--jp-border-color1);\n",
       "    margin-top: 3px;\n",
       "    margin-left: 2px;\n",
       "}\n",
       "\n",
       ".view_tree {\n",
       "    padding: 0px !important;\n",
       "}\n",
       "\n",
       ".view_axes {\n",
       "    width: 60px !important;\n",
       "    margin-left: 5px !important;\n",
       "}\n",
       "\n",
       ".view_zero {\n",
       "    width: 55px !important;\n",
       "}\n",
       "\n",
       ".view_grid {\n",
       "    width: 56px !important;\n",
       "}\n",
       "\n",
       ".view_ortho {\n",
       "    width: 64px !important;\n",
       "}\n",
       "\n",
       ".view_transparent {\n",
       "    width: 125px !important;\n",
       "}\n",
       "\n",
       ".view_black_edges {\n",
       "    width: 105px !important;\n",
       "}\n",
       "\n",
       ".view_button {\n",
       "    padding: 0px !important;\n",
       "}\n",
       "\n",
       ".view_button>img {\n",
       "    height: 28px;\n",
       "    width: 36px;\n",
       "}\n",
       "\n",
       ".node_entry_wrap {\n",
       "    white-space: pre;\n",
       "}\n",
       "\n",
       ".node_entry {\n",
       "    white-space: nowrap;\n",
       "    padding-top: 4px;\n",
       "}\n",
       "\n",
       ".t-caret {\n",
       "    cursor: pointer;\n",
       "    -webkit-user-select: none;\n",
       "    /* Safari 3.1+ */\n",
       "    -moz-user-select: none;\n",
       "    /* Firefox 2+ */\n",
       "    -ms-user-select: none;\n",
       "    /* IE 10+ */\n",
       "    user-select: none;\n",
       "}\n",
       "\n",
       ".t-caret-down::before {\n",
       "    -ms-transform: rotate(90deg);\n",
       "    /* IE 9 */\n",
       "    -webkit-transform: rotate(90deg);\n",
       "    /* Safari */\n",
       "    transform: rotate(90deg);\n",
       "}\n",
       "\n",
       ".toplevel {\n",
       "    list-style-type: none;\n",
       "    padding-inline-start: 0px;\n",
       "}\n",
       "\n",
       ".nested {\n",
       "    display: none;\n",
       "    list-style-type: none;\n",
       "    padding-inline-start: 16px;\n",
       "}\n",
       "\n",
       ".active {\n",
       "    display: block;\n",
       "}\n",
       "\n",
       ".icon {\n",
       "    width: 28px !important;\n",
       "    height: 22px !important;\n",
       "    padding-right: 2px;\n",
       "    vertical-align: middle;\n",
       "}\n",
       "\n",
       ".indent {\n",
       "    margin-left: 12px;\n",
       "}\n",
       "\n",
       ".tree_label {\n",
       "    padding-left: 2px;\n",
       "    font-size: 14px;\n",
       "}\n",
       "\n",
       ".scroll_down {\n",
       "    display: flex;\n",
       "    flex-direction: column-reverse;\n",
       "}\n",
       "\n",
       ".small_table {\n",
       "    line-height: 14px;\n",
       "}\n",
       "\n",
       ".monospace select {\n",
       "    font-family: monospace;\n",
       "}\n",
       "\n",
       "        .t-caret::before {\n",
       "            content: u\"▶\";\n",
       "            font-size: 12px;\n",
       "            color: \"#080808\";\n",
       "            display: inline-block;\n",
       "            margin-right: 2px;\n",
       "        }\n",
       "\n",
       "        .mac-scrollbar::-webkit-scrollbar-thumb {\n",
       "            background-color: rgba(0, 0, 0, 0.2) !important;\n",
       "            border-radius: 100px !important;\n",
       "        }\n",
       "\n",
       "        .mac-scrollbar::-webkit-scrollbar-thumb:hover {\n",
       "            background: rgba(0, 0, 0, 0.4) !important;\n",
       "        }\n",
       "\n",
       "        .mac-scrollbar::-webkit-scrollbar-thumb:active {\n",
       "            background: #181818 !important;\n",
       "        }\n",
       "\n",
       "        .mac-scrollbar::-webkit-scrollbar-corner {\n",
       "            background: white;\n",
       "        }\n",
       "\n",
       "        .view_output {\n",
       "            border: 1px solid var(--jp-border-color1);\n",
       "            margin: 2px 2px 2px 2px !important;\n",
       "            padding-right: 1px !important;\n",
       "            background-color: white;\n",
       "        }\n",
       "    </style>"
      ],
      "text/plain": [
       "<IPython.core.display.HTML object>"
      ]
     },
     "metadata": {},
     "output_type": "display_data"
    },
    {
     "data": {
      "text/plain": [
       "<jupyter_cadquery.cad_display.CadqueryDisplay at 0x7f3d0d470d90>"
      ]
     },
     "execution_count": 2,
     "metadata": {},
     "output_type": "execute_result"
    }
   ],
   "source": [
    "gear_builder = SpurGear(module=1.0, teeth_number=20, width=5.0,\n",
    "                        pressure_angle=20.0)\n",
    "\n",
    "gear = gear_builder.build(bore_d=5.0)\n",
    "show(gear)"
   ]
  },
  {
   "cell_type": "markdown",
   "id": "2afaab2f-a78b-48cb-a0e8-8482827b6301",
   "metadata": {},
   "source": [
    "## Helical Gear"
   ]
  },
  {
   "cell_type": "code",
   "execution_count": 3,
   "id": "70117e9a-d1db-4261-9acc-292dde3043b6",
   "metadata": {
    "tags": []
   },
   "outputs": [
    {
     "data": {
      "application/vnd.jupyter.widget-view+json": {
       "model_id": "5745304a79ed422b9618ede79d62dfc0",
       "version_major": 2,
       "version_minor": 0
      },
      "text/plain": [
       "Renderer(camera=CombinedCamera(far=100.0, height=600.0, mode='orthographic', orthoFar=100.0, position=(1.0, 1.…"
      ]
     },
     "metadata": {},
     "output_type": "display_data"
    },
    {
     "data": {
      "text/plain": [
       "<jupyter_cadquery.cad_display.CadqueryDisplay at 0x7f3d0d472eb0>"
      ]
     },
     "execution_count": 3,
     "metadata": {},
     "output_type": "execute_result"
    }
   ],
   "source": [
    "gear_builder = SpurGear(module=1.0, teeth_number=29, width=8.0,\n",
    "                        pressure_angle=20.0, helix_angle=-40.0)\n",
    "\n",
    "gear = gear_builder.build(bore_d=5.0)\n",
    "show(gear)"
   ]
  },
  {
   "cell_type": "markdown",
   "id": "8edb3821-4278-43ec-9e59-7ad15871e595",
   "metadata": {},
   "source": [
    "## Herringbone Gear"
   ]
  },
  {
   "cell_type": "code",
   "execution_count": 4,
   "id": "abcc4824-3aa3-4eaa-899f-1f87ae0e4325",
   "metadata": {},
   "outputs": [
    {
     "data": {
      "application/vnd.jupyter.widget-view+json": {
       "model_id": "d11314a36f51416eb528a935a32a3249",
       "version_major": 2,
       "version_minor": 0
      },
      "text/plain": [
       "Renderer(camera=CombinedCamera(far=100.0, height=600.0, mode='orthographic', orthoFar=100.0, position=(1.0, 1.…"
      ]
     },
     "metadata": {},
     "output_type": "display_data"
    },
    {
     "data": {
      "text/plain": [
       "<jupyter_cadquery.cad_display.CadqueryDisplay at 0x7f3d051eee80>"
      ]
     },
     "execution_count": 4,
     "metadata": {},
     "output_type": "execute_result"
    }
   ],
   "source": [
    "gear_builder = HerringboneGear(module=1.0, teeth_number=42, width=10.0,\n",
    "                               pressure_angle=20.0, helix_angle=-20.0)\n",
    "\n",
    "gear = gear_builder.build(bore_d=10.0)\n",
    "show(gear)"
   ]
  },
  {
   "cell_type": "markdown",
   "id": "5a4ce612-5b36-411d-865d-51a1d7defb7a",
   "metadata": {},
   "source": [
    "## Beaten up Spur Gear"
   ]
  },
  {
   "cell_type": "code",
   "execution_count": 5,
   "id": "b2581e5b-936f-41b9-8ef4-e1be05d1460c",
   "metadata": {},
   "outputs": [
    {
     "data": {
      "application/vnd.jupyter.widget-view+json": {
       "model_id": "6823df0d31a54e279081392ab866c645",
       "version_major": 2,
       "version_minor": 0
      },
      "text/plain": [
       "Renderer(camera=CombinedCamera(far=100.0, height=600.0, mode='orthographic', orthoFar=100.0, position=(1.0, 1.…"
      ]
     },
     "metadata": {},
     "output_type": "display_data"
    },
    {
     "data": {
      "text/plain": [
       "<jupyter_cadquery.cad_display.CadqueryDisplay at 0x7f3d05265fa0>"
      ]
     },
     "execution_count": 5,
     "metadata": {},
     "output_type": "execute_result"
    }
   ],
   "source": [
    "gear_builder = SpurGear(module=1.0, teeth_number=20, width=5.0,\n",
    "                        pressure_angle=20.0)\n",
    "\n",
    "# Build a gear with some missing teeth\n",
    "gear = gear_builder.build(bore_d=5.0, missing_teeth=(0, 10))\n",
    "show(gear)"
   ]
  },
  {
   "cell_type": "markdown",
   "id": "bd5f9ad2-bc82-4c01-bca0-4a0fa6c33f6d",
   "metadata": {},
   "source": [
    "## Helical Gear with extended hub and some removed material"
   ]
  },
  {
   "cell_type": "code",
   "execution_count": 6,
   "id": "c2bc8e65-ad02-4283-b037-b07e4b1a8d56",
   "metadata": {},
   "outputs": [
    {
     "data": {
      "application/vnd.jupyter.widget-view+json": {
       "model_id": "2a361bb678fa45239d75bbccdcf3fa67",
       "version_major": 2,
       "version_minor": 0
      },
      "text/plain": [
       "Renderer(camera=CombinedCamera(far=100.0, height=600.0, mode='orthographic', orthoFar=100.0, position=(1.0, 1.…"
      ]
     },
     "metadata": {},
     "output_type": "display_data"
    },
    {
     "data": {
      "text/plain": [
       "<jupyter_cadquery.cad_display.CadqueryDisplay at 0x7f3d051ee1c0>"
      ]
     },
     "execution_count": 6,
     "metadata": {},
     "output_type": "execute_result"
    }
   ],
   "source": [
    "gear_builder = SpurGear(module=1.0, teeth_number=60, width=8.0,\n",
    "                        pressure_angle=20.0, helix_angle=45.0)\n",
    "\n",
    "gear = gear_builder.build(bore_d=10.0, hub_d=16.0, hub_length=10.0,\n",
    "                          recess_d=52.0, recess=3.0, n_spokes=5,\n",
    "                          spoke_width=6.0, spoke_fillet=4.0,\n",
    "                          spokes_id=23.0, spokes_od=48.0)\n",
    "show(gear)"
   ]
  },
  {
   "cell_type": "markdown",
   "id": "90e2a11e-c45f-46f4-8ebe-1631bbf55ada",
   "metadata": {},
   "source": [
    "## Ring(Internal) Gear"
   ]
  },
  {
   "cell_type": "code",
   "execution_count": 11,
   "id": "ca98adce-8448-4a1e-b286-3584457480a0",
   "metadata": {},
   "outputs": [
    {
     "data": {
      "application/vnd.jupyter.widget-view+json": {
       "model_id": "5e8d59c9f6ad438a88be610aea6b8337",
       "version_major": 2,
       "version_minor": 0
      },
      "text/plain": [
       "Renderer(camera=CombinedCamera(far=100.0, height=600.0, mode='orthographic', orthoFar=100.0, position=(1.0, 1.…"
      ]
     },
     "metadata": {},
     "output_type": "display_data"
    },
    {
     "data": {
      "text/plain": [
       "<jupyter_cadquery.cad_display.CadqueryDisplay at 0x7f3d0416e250>"
      ]
     },
     "execution_count": 11,
     "metadata": {},
     "output_type": "execute_result"
    }
   ],
   "source": [
    "gear_builder = RingGear(module=1.0, teeth_number=32, width=8.0, rim_width=3.0)\n",
    "\n",
    "gear = gear_builder.build()\n",
    "show(gear)"
   ]
  },
  {
   "cell_type": "markdown",
   "id": "37068f2c-9bcf-4d5b-9da6-fbc513c177c2",
   "metadata": {},
   "source": [
    "## Herringbone Ring Gear"
   ]
  },
  {
   "cell_type": "code",
   "execution_count": 13,
   "id": "0e0c0b68-30d0-4106-909d-08db825767e4",
   "metadata": {},
   "outputs": [
    {
     "data": {
      "application/vnd.jupyter.widget-view+json": {
       "model_id": "a38a7aed397d4feea5df7695ec6d94c4",
       "version_major": 2,
       "version_minor": 0
      },
      "text/plain": [
       "Renderer(camera=CombinedCamera(far=100.0, height=600.0, mode='orthographic', orthoFar=100.0, position=(1.0, 1.…"
      ]
     },
     "metadata": {},
     "output_type": "display_data"
    },
    {
     "data": {
      "text/plain": [
       "<jupyter_cadquery.cad_display.CadqueryDisplay at 0x7f3cfe2dfe80>"
      ]
     },
     "execution_count": 13,
     "metadata": {},
     "output_type": "execute_result"
    }
   ],
   "source": [
    "gear_builder = HerringboneRingGear(module=1.0, teeth_number=80, width=8.0,\n",
    "                                   rim_width=5.0, helix_angle=30.0)\n",
    "\n",
    "gear = gear_builder.build()\n",
    "show(gear)"
   ]
  }
 ],
 "metadata": {
  "kernelspec": {
   "display_name": "Python 3",
   "language": "python",
   "name": "python3"
  },
  "language_info": {
   "codemirror_mode": {
    "name": "ipython",
    "version": 3
   },
   "file_extension": ".py",
   "mimetype": "text/x-python",
   "name": "python",
   "nbconvert_exporter": "python",
   "pygments_lexer": "ipython3",
   "version": "3.9.6"
  },
  "widgets": {
   "application/vnd.jupyter.widget-state+json": {
    "state": {},
    "version_major": 2,
    "version_minor": 0
   }
  }
 },
 "nbformat": 4,
 "nbformat_minor": 5
}
