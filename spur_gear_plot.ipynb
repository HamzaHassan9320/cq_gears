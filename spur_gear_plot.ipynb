{
 "cells": [
  {
   "cell_type": "code",
   "execution_count": 1,
   "id": "00c2e930-66a2-41c5-a171-cae92943b309",
   "metadata": {},
   "outputs": [],
   "source": [
    "%matplotlib widget\n",
    "\n",
    "import matplotlib.pyplot as plt\n",
    "import matplotlib.animation as animation\n",
    "import numpy as np\n",
    "\n",
    "from cq_gears import SpurGear"
   ]
  },
  {
   "cell_type": "markdown",
   "id": "76fc1352-699c-48d8-bf97-4d3dd04aae5a",
   "metadata": {},
   "source": [
    "## Gear profile"
   ]
  },
  {
   "cell_type": "code",
   "execution_count": 2,
   "id": "89c5f0d8-e609-46d1-9b8f-78dd48926603",
   "metadata": {},
   "outputs": [
    {
     "data": {
      "application/vnd.jupyter.widget-view+json": {
       "model_id": "2c495e57e1514e92bee8aaa65d8ff0d7",
       "version_major": 2,
       "version_minor": 0
      },
      "text/plain": [
       "Canvas(toolbar=Toolbar(toolitems=[('Home', 'Reset original view', 'home', 'home'), ('Back', 'Back to previous …"
      ]
     },
     "metadata": {},
     "output_type": "display_data"
    }
   ],
   "source": [
    "module = 1.0\n",
    "n_teeth = 19\n",
    "pressure_angle = 20.0\n",
    "\n",
    "fig, ax = plt.subplots(figsize=(8, 8))\n",
    "ax.set_aspect('equal')\n",
    "\n",
    "gear = SpurGear(module, n_teeth, 5.0, pressure_angle=pressure_angle)\n",
    "x, y = gear.gear_points_xy()\n",
    "ax.plot(x, y, label='gear profile')\n",
    "\n",
    "circles = (\n",
    "    (gear.r0, 'pitch circle'),\n",
    "    (gear.ra, 'addendum circle'),\n",
    "    (gear.rb, 'base circle'),\n",
    "    (gear.rd, 'dedendum circle'),\n",
    ")\n",
    "\n",
    "t = np.linspace(0.0, np.pi * 2.0, 200)\n",
    "\n",
    "for r, lbl in circles:\n",
    "    cx = np.cos(t) * r\n",
    "    cy = np.sin(t) * r\n",
    "    ax.plot(cx, cy, label=lbl, linestyle='--', linewidth=0.8)\n",
    "\n",
    "plt.legend(loc='center')\n",
    "plt.show()"
   ]
  },
  {
   "cell_type": "markdown",
   "id": "90e7e207-8c06-43fb-b271-0ccd0037784e",
   "metadata": {},
   "source": [
    "## Profiles with different pressure angles"
   ]
  },
  {
   "cell_type": "code",
   "execution_count": 3,
   "id": "36d10f55-bafa-456d-80c0-122f6049b58f",
   "metadata": {},
   "outputs": [
    {
     "data": {
      "application/vnd.jupyter.widget-view+json": {
       "model_id": "9555df1ea3424610822e7affbbfa40d6",
       "version_major": 2,
       "version_minor": 0
      },
      "text/plain": [
       "Canvas(toolbar=Toolbar(toolitems=[('Home', 'Reset original view', 'home', 'home'), ('Back', 'Back to previous …"
      ]
     },
     "metadata": {},
     "output_type": "display_data"
    }
   ],
   "source": [
    "module = 1.0\n",
    "n_teeth = 13\n",
    "pressure_angles = (14.5, 20.0, 28.0)\n",
    "\n",
    "fig, ax = plt.subplots(figsize=(8, 8))\n",
    "ax.set_aspect('equal')\n",
    "ax.set_xlim(-1.8, 3.2)\n",
    "ax.set_ylim(3.8, 8.8)\n",
    "\n",
    "for a0 in pressure_angles:\n",
    "    gear = SpurGear(module, n_teeth, 5.0, pressure_angle=a0)\n",
    "    x, y = gear.gear_points_xy()\n",
    "    ax.plot(x, y, label='pressure angle: {} deg.'.format(a0))\n",
    "\n",
    "plt.legend(loc='lower left')\n",
    "plt.show()"
   ]
  },
  {
   "cell_type": "markdown",
   "id": "10a91c13-5e28-4f2c-b551-1ccc5048eba7",
   "metadata": {},
   "source": [
    "## Two Gears meshing together"
   ]
  },
  {
   "cell_type": "code",
   "execution_count": 4,
   "id": "9339fcab-a8fa-4330-b2b1-2d6134b95e9b",
   "metadata": {},
   "outputs": [
    {
     "data": {
      "application/vnd.jupyter.widget-view+json": {
       "model_id": "d745b37f71af46039fe6cef08aa68faa",
       "version_major": 2,
       "version_minor": 0
      },
      "text/plain": [
       "Canvas(toolbar=Toolbar(toolitems=[('Home', 'Reset original view', 'home', 'home'), ('Back', 'Back to previous …"
      ]
     },
     "metadata": {},
     "output_type": "display_data"
    }
   ],
   "source": [
    "module = 1.0\n",
    "n_teeth = (19, 39)\n",
    "pressure_angle = 20.0\n",
    "\n",
    "fig, ax = plt.subplots(figsize=(8, 8))\n",
    "ax.set_aspect('equal')\n",
    "\n",
    "\n",
    "gear1 = SpurGear(module, n_teeth[0], 5.0, pressure_angle=pressure_angle, clearance=0.2)\n",
    "gear2 = SpurGear(module, n_teeth[1], 5.0, pressure_angle=pressure_angle, clearance=0.2)\n",
    "\n",
    "def rotate_xy(x, y, angle):\n",
    "    rx = x * np.cos(angle) - y * np.sin(angle)\n",
    "    ry = x * np.sin(angle) + y * np.cos(angle)\n",
    "    return rx, ry\n",
    "\n",
    "def plot_gears(frame):\n",
    "    ax.clear()\n",
    "#     ax.set_xlim(0.7, 7.6)\n",
    "#     ax.set_ylim(-7, 7)\n",
    "\n",
    "    a1 = np.pi * 2.0 / 200.0 * frame\n",
    "    a2 = -np.pi * 2.0 / 200.0 * frame * (gear1.z / gear2.z)\n",
    "    \n",
    "    x, y = gear1.gear_points_xy()\n",
    "    x, y = rotate_xy(x, y, a1)\n",
    "    ax.plot(x, y)\n",
    "    \n",
    "    x, y = gear2.gear_points_xy()\n",
    "    \n",
    "    if (gear2.z % 2) == 0:\n",
    "        a2 += gear2.tau / 2.0\n",
    "    \n",
    "    x, y = rotate_xy(x, y, a2)\n",
    "    \n",
    "    x += gear1.r0 + gear2.r0\n",
    "    ax.plot(x, y)\n",
    "\n",
    "# anim = animation.FuncAnimation(fig, plot_gears, 400, interval=25)\n",
    "\n",
    "plot_gears(0)\n",
    "plt.show()"
   ]
  }
 ],
 "metadata": {
  "kernelspec": {
   "display_name": "Python 3",
   "language": "python",
   "name": "python3"
  },
  "language_info": {
   "codemirror_mode": {
    "name": "ipython",
    "version": 3
   },
   "file_extension": ".py",
   "mimetype": "text/x-python",
   "name": "python",
   "nbconvert_exporter": "python",
   "pygments_lexer": "ipython3",
   "version": "3.9.6"
  }
 },
 "nbformat": 4,
 "nbformat_minor": 5
}
