{
 "cells": [
  {
   "cell_type": "code",
   "execution_count": null,
   "id": "00c2e930-66a2-41c5-a171-cae92943b309",
   "metadata": {},
   "outputs": [],
   "source": [
    "%matplotlib widget\n",
    "\n",
    "import matplotlib.pyplot as plt\n",
    "import matplotlib.animation as animation\n",
    "import numpy as np\n",
    "\n",
    "from cq_gears import SpurGear\n",
    "\n",
    "def rotate_xy(x, y, angle):\n",
    "    rx = x * np.cos(angle) - y * np.sin(angle)\n",
    "    ry = x * np.sin(angle) + y * np.cos(angle)\n",
    "    return rx, ry"
   ]
  },
  {
   "cell_type": "markdown",
   "id": "76fc1352-699c-48d8-bf97-4d3dd04aae5a",
   "metadata": {},
   "source": [
    "## Gear profile"
   ]
  },
  {
   "cell_type": "code",
   "execution_count": null,
   "id": "89c5f0d8-e609-46d1-9b8f-78dd48926603",
   "metadata": {},
   "outputs": [],
   "source": [
    "module = 1.0\n",
    "n_teeth = 19\n",
    "pressure_angle = 20.0\n",
    "\n",
    "fig, ax = plt.subplots(figsize=(8, 8))\n",
    "ax.set_aspect('equal')\n",
    "\n",
    "gear = SpurGear(module, n_teeth, 5.0, pressure_angle=pressure_angle)\n",
    "pts = gear.gear_points()\n",
    "\n",
    "ax.plot(pts[:, 0], pts[:, 1], label='gear profile')\n",
    "\n",
    "circles = (\n",
    "    (gear.r0, 'pitch circle'),\n",
    "    (gear.ra, 'addendum circle'),\n",
    "    (gear.rb, 'base circle'),\n",
    "    (gear.rd, 'dedendum circle'),\n",
    ")\n",
    "\n",
    "t = np.linspace(0.0, np.pi * 2.0, 200)\n",
    "\n",
    "for r, lbl in circles:\n",
    "    cx = np.cos(t) * r\n",
    "    cy = np.sin(t) * r\n",
    "    ax.plot(cx, cy, label=lbl, linestyle='--', linewidth=0.8)\n",
    "\n",
    "plt.legend(loc='center')\n",
    "plt.show()"
   ]
  },
  {
   "cell_type": "markdown",
   "id": "90e7e207-8c06-43fb-b271-0ccd0037784e",
   "metadata": {},
   "source": [
    "## Profiles with different pressure angles"
   ]
  },
  {
   "cell_type": "code",
   "execution_count": null,
   "id": "36d10f55-bafa-456d-80c0-122f6049b58f",
   "metadata": {},
   "outputs": [],
   "source": [
    "module = 1.0\n",
    "n_teeth = 13\n",
    "pressure_angles = (14.5, 20.0, 28.0)\n",
    "\n",
    "fig, ax = plt.subplots(figsize=(8, 8))\n",
    "ax.set_aspect('equal')\n",
    "ax.set_xlim(-1.8, 3.2)\n",
    "ax.set_ylim(3.8, 8.8)\n",
    "\n",
    "for a0 in pressure_angles:\n",
    "    gear = SpurGear(module, n_teeth, 5.0, pressure_angle=a0)\n",
    "    pts = gear.gear_points()\n",
    "    ax.plot(pts[:, 0], pts[:, 1], label='pressure angle: {} deg.'.format(a0))\n",
    "\n",
    "plt.legend(loc='lower left')\n",
    "plt.show()"
   ]
  },
  {
   "cell_type": "markdown",
   "id": "10a91c13-5e28-4f2c-b551-1ccc5048eba7",
   "metadata": {},
   "source": [
    "## Two Gears meshing together"
   ]
  },
  {
   "cell_type": "code",
   "execution_count": null,
   "id": "9339fcab-a8fa-4330-b2b1-2d6134b95e9b",
   "metadata": {},
   "outputs": [],
   "source": [
    "animate = False # Set to True to animate\n",
    "\n",
    "module = 1.0\n",
    "pinion_teeth = 19\n",
    "gear_teeth = 39\n",
    "pressure_angle = 20.0\n",
    "\n",
    "fig, ax = plt.subplots(figsize=(8, 8))\n",
    "ax.set_aspect('equal')\n",
    "\n",
    "pinion = SpurGear(module, pinion_teeth, 5.0, pressure_angle=pressure_angle)\n",
    "gear = SpurGear(module, gear_teeth, 5.0, pressure_angle=pressure_angle)\n",
    "ratio = (pinion.z / gear.z)\n",
    "\n",
    "def plot_gears(frame):\n",
    "    ax.clear()\n",
    "#     ax.set_xlim(0.7, 7.6)\n",
    "#     ax.set_ylim(-7, 7)\n",
    "\n",
    "    w = np.pi * 2.0 / 200.0 * frame\n",
    "    w1 = w * ratio\n",
    "    \n",
    "    pts = pinion.gear_points()\n",
    "    x, y = pts[:, 0], pts[:, 1]\n",
    "    x, y = rotate_xy(x, y, w)\n",
    "    ax.plot(x, y)\n",
    "    \n",
    "    pts = gear.gear_points()\n",
    "    x, y = pts[:, 0], pts[:, 1]\n",
    "    \n",
    "    if (gear.z % 2) == 0:\n",
    "        a2 += gear.tau / 2.0\n",
    "    \n",
    "    x, y = rotate_xy(x, y, -w1)\n",
    "    \n",
    "    x += pinion.r0 + gear.r0\n",
    "    ax.plot(x, y)\n",
    "\n",
    "if animate:\n",
    "    anim = animation.FuncAnimation(fig, plot_gears, 400, interval=25)\n",
    "else:\n",
    "    plot_gears(0)\n",
    "\n",
    "plt.show()"
   ]
  },
  {
   "cell_type": "code",
   "execution_count": null,
   "id": "f6d61dfc-741d-407f-9382-5c48a9015b96",
   "metadata": {},
   "outputs": [],
   "source": []
  }
 ],
 "metadata": {
  "kernelspec": {
   "display_name": "Python 3",
   "language": "python",
   "name": "python3"
  },
  "language_info": {
   "codemirror_mode": {
    "name": "ipython",
    "version": 3
   },
   "file_extension": ".py",
   "mimetype": "text/x-python",
   "name": "python",
   "nbconvert_exporter": "python",
   "pygments_lexer": "ipython3",
   "version": "3.9.6"
  }
 },
 "nbformat": 4,
 "nbformat_minor": 5
}
