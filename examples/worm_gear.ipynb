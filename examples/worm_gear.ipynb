{
 "cells": [
  {
   "cell_type": "code",
   "execution_count": null,
   "id": "09a6503c-bad3-4210-bf79-338e92da4603",
   "metadata": {},
   "outputs": [],
   "source": [
    "import cadquery as cq\n",
    "from jupyter_cadquery.cadquery import show, replay, enable_replay\n",
    "from jupyter_cadquery import set_defaults\n",
    "\n",
    "set_defaults(display='cell', axes=False, axes0=True, grid=True,\n",
    "             default_color='lightgrey', tools=False)\n",
    "\n",
    "from cq_gears import WormGear"
   ]
  },
  {
   "cell_type": "code",
   "execution_count": null,
   "id": "2aa716f9-ff0f-4142-b105-0f5bb553b8e8",
   "metadata": {},
   "outputs": [],
   "source": [
    "worm = WormGear(module=1.0, lead_angle=10.0, n_threads=2, length=30.0)\n",
    "\n",
    "wp = cq.Workplane('XY').gear(worm, bore_d=3.0)\n",
    "show(wp)"
   ]
  }
 ],
 "metadata": {
  "kernelspec": {
   "display_name": "Python 3",
   "language": "python",
   "name": "python3"
  },
  "language_info": {
   "codemirror_mode": {
    "name": "ipython",
    "version": 3
   },
   "file_extension": ".py",
   "mimetype": "text/x-python",
   "name": "python",
   "nbconvert_exporter": "python",
   "pygments_lexer": "ipython3",
   "version": "3.9.6"
  }
 },
 "nbformat": 4,
 "nbformat_minor": 5
}
