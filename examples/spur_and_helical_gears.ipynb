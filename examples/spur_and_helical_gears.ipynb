{
 "cells": [
  {
   "cell_type": "code",
   "execution_count": null,
   "id": "3f8cacde-668f-4452-b69e-9bb4b54efa04",
   "metadata": {},
   "outputs": [],
   "source": [
    "import cadquery as cq\n",
    "from jupyter_cadquery import show, set_defaults\n",
    "\n",
    "set_defaults(axes=False, axes0=True, grid=(True, True, True),\n",
    "             default_color='lightgrey', tools=False)\n",
    "\n",
    "from cq_gears import SpurGear, HerringboneGear"
   ]
  },
  {
   "cell_type": "markdown",
   "id": "11cfd090-afcb-49e1-b518-51dbe4ce08ba",
   "metadata": {},
   "source": [
    "## Spur Gear"
   ]
  },
  {
   "cell_type": "code",
   "execution_count": null,
   "id": "1ce69d02-eeb6-4da1-951e-884d51f2bc2d",
   "metadata": {
    "tags": []
   },
   "outputs": [],
   "source": [
    "spur_gear = SpurGear(module=1.0, teeth_number=19, width=5.0, bore_d=5.0)\n",
    "\n",
    "wp = cq.Workplane('XY').gear(spur_gear)\n",
    "show(wp)"
   ]
  },
  {
   "cell_type": "markdown",
   "id": "4dca3e07-9202-412d-930d-faf71559cb9e",
   "metadata": {},
   "source": [
    "## Spur gear train"
   ]
  },
  {
   "cell_type": "code",
   "execution_count": null,
   "id": "5b249d2b-c6f6-41bc-9a8f-a32be43e6d5e",
   "metadata": {},
   "outputs": [],
   "source": [
    "spur_gear = SpurGear(module=1.0, teeth_number=13, width=5.0, bore_d=5.0)\n",
    "\n",
    "wp = (cq.Workplane('XY')\n",
    "        # Pushing an array of 4 points with spacing equal to the gear's pitch diameter \n",
    "      .rarray(xSpacing=spur_gear.r0 * 2.0,\n",
    "              ySpacing=1.0, xCount=4, yCount=1, center=False)\n",
    "        # Create 4 meshing gears\n",
    "      .gear(spur_gear)\n",
    "      \n",
    "      .moveTo(spur_gear.r0 * 2 * 4, 0.0)\n",
    "        # Create an additional gear with the same profile but with different\n",
    "        # bore diameter and hub\n",
    "      .addGear(spur_gear, bore_d=3.0, hub_d=8.0, hub_length=4.0))\n",
    "\n",
    "show(wp)"
   ]
  },
  {
   "cell_type": "markdown",
   "id": "2afaab2f-a78b-48cb-a0e8-8482827b6301",
   "metadata": {},
   "source": [
    "## Helical Gears"
   ]
  },
  {
   "cell_type": "code",
   "execution_count": null,
   "id": "d927550a-0e2f-4855-af96-9b78ec12f1dd",
   "metadata": {
    "tags": []
   },
   "outputs": [],
   "source": [
    "# Create two meshing helical gears with different tooth count and face width\n",
    "\n",
    "helical_gear1 = SpurGear(module=1.0, teeth_number=29, width=16.0,\n",
    "                         # the sign of helix_angle determines direction:\n",
    "                         # positive=clockwise, negative=counterclockwise\n",
    "                         helix_angle=40.0,\n",
    "                         bore_d=20.0)\n",
    "\n",
    "helical_gear2 = SpurGear(module=1.0, teeth_number=17, width=8.0,\n",
    "                         helix_angle=-40.0,\n",
    "                         bore_d=10.0)\n",
    "\n",
    "wp = (cq.Workplane('XY')\n",
    "      .gear(helical_gear1)\n",
    "      .moveTo(helical_gear1.r0 + helical_gear2.r0, 0.0)\n",
    "      .addGear(helical_gear2))\n",
    "\n",
    "show(wp)"
   ]
  },
  {
   "cell_type": "markdown",
   "id": "8edb3821-4278-43ec-9e59-7ad15871e595",
   "metadata": {},
   "source": [
    "## Herringbone Gear"
   ]
  },
  {
   "cell_type": "code",
   "execution_count": null,
   "id": "abcc4824-3aa3-4eaa-899f-1f87ae0e4325",
   "metadata": {},
   "outputs": [],
   "source": [
    "# Herringbone helical gear variation\n",
    "\n",
    "hb_gear = HerringboneGear(module=1.0, teeth_number=42, width=10.0,\n",
    "                          helix_angle=-20.0, bore_d=28.0)\n",
    "\n",
    "wp = cq.Workplane('XY').gear(hb_gear)\n",
    "show(wp)"
   ]
  },
  {
   "cell_type": "markdown",
   "id": "5a4ce612-5b36-411d-865d-51a1d7defb7a",
   "metadata": {},
   "source": [
    "## Beaten up Spur Gear"
   ]
  },
  {
   "cell_type": "code",
   "execution_count": null,
   "id": "b2581e5b-936f-41b9-8ef4-e1be05d1460c",
   "metadata": {},
   "outputs": [],
   "source": [
    "# Build a gear with some missing teeth\n",
    "beaten_spur_gear = SpurGear(module=1.0, teeth_number=20, width=5.0,\n",
    "                            pressure_angle=20.0, bore_d=5.0,\n",
    "                            missing_teeth=(0, 10))\n",
    "\n",
    "wp = cq.Workplane('XY').gear(beaten_spur_gear)\n",
    "show(wp)"
   ]
  },
  {
   "cell_type": "markdown",
   "id": "bd5f9ad2-bc82-4c01-bca0-4a0fa6c33f6d",
   "metadata": {},
   "source": [
    "## Helical Gear with spokes and extended hub"
   ]
  },
  {
   "cell_type": "code",
   "execution_count": null,
   "id": "c2bc8e65-ad02-4283-b037-b07e4b1a8d56",
   "metadata": {},
   "outputs": [],
   "source": [
    "helical_gear = SpurGear(module=1.0, teeth_number=60, width=8.0,\n",
    "                        pressure_angle=20.0, helix_angle=45.0,\n",
    "                        bore_d=10.0, hub_d=16.0, hub_length=10.0,\n",
    "                        recess_d=52.0, recess=3.0, n_spokes=5,\n",
    "                        spoke_width=6.0, spoke_fillet=4.0,\n",
    "                        spokes_id=23.0, spokes_od=48.0)\n",
    "\n",
    "wp = cq.Workplane('XY').gear(helical_gear)\n",
    "show(wp)"
   ]
  },
  {
   "cell_type": "code",
   "execution_count": null,
   "id": "98a96b41-2036-4db7-b804-5bc726793653",
   "metadata": {},
   "outputs": [],
   "source": []
  }
 ],
 "metadata": {
  "kernelspec": {
   "display_name": "Python 3",
   "language": "python",
   "name": "python3"
  },
  "language_info": {
   "codemirror_mode": {
    "name": "ipython",
    "version": 3
   },
   "file_extension": ".py",
   "mimetype": "text/x-python",
   "name": "python",
   "nbconvert_exporter": "python",
   "pygments_lexer": "ipython3",
   "version": "3.9.7"
  },
  "widgets": {
   "application/vnd.jupyter.widget-state+json": {
    "state": {},
    "version_major": 2,
    "version_minor": 0
   }
  }
 },
 "nbformat": 4,
 "nbformat_minor": 5
}
