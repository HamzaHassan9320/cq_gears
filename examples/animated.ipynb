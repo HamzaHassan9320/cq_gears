{
 "cells": [
  {
   "cell_type": "code",
   "execution_count": 1,
   "id": "95606c2d-399e-4ede-a450-3068bd422717",
   "metadata": {},
   "outputs": [
    {
     "name": "stdout",
     "output_type": "stream",
     "text": [
      "Overwriting auto display for cadquery Workplane and Shape\n"
     ]
    },
    {
     "name": "stderr",
     "output_type": "stream",
     "text": [
      "/home/michael/anaconda3/envs/cadquery/lib/python3.9/site-packages/jupyter_client/session.py:716: UserWarning: Message serialization failed with:\n",
      "Out of range float values are not JSON compliant\n",
      "Supporting this message is deprecated in jupyter-client 7, please make sure your message is JSON-compliant\n",
      "  content = self.pack(content)\n"
     ]
    },
    {
     "data": {
      "text/html": [
       "<style>\n",
       ".scroll-area {\n",
       "    overflow: scroll !important;\n",
       "    border: unset !important;\n",
       "}\n",
       "\n",
       ".mac-scrollbar::-webkit-scrollbar {\n",
       "    width: 5px !important;\n",
       "    height: 5px !important;\n",
       "}\n",
       "\n",
       ".mac-scrollbar::-webkit-scrollbar-track {\n",
       "    background-color: transparent !important;\n",
       "}\n",
       "\n",
       ".mac-scrollbar .widget-html-content {\n",
       "    overflow-x: visible;\n",
       "    overflow-y: visible;\n",
       "}\n",
       "\n",
       ".tab-content-no-padding .widget-tab-contents {\n",
       "    overflow-x: visible !important;\n",
       "    overflow-y: visible !important;\n",
       "    padding-bottom: 0px !important;\n",
       "}\n",
       "\n",
       ".view_renderer {\n",
       "    border: 1px solid var(--jp-border-color1);\n",
       "    margin-top: 3px;\n",
       "    margin-left: 2px;\n",
       "}\n",
       "\n",
       ".view_tree {\n",
       "    padding: 0px !important;\n",
       "}\n",
       "\n",
       ".view_axes {\n",
       "    width: 60px !important;\n",
       "    margin-left: 5px !important;\n",
       "}\n",
       "\n",
       ".view_zero {\n",
       "    width: 55px !important;\n",
       "}\n",
       "\n",
       ".view_grid {\n",
       "    width: 56px !important;\n",
       "}\n",
       "\n",
       ".view_ortho {\n",
       "    width: 64px !important;\n",
       "}\n",
       "\n",
       ".view_transparent {\n",
       "    width: 125px !important;\n",
       "}\n",
       "\n",
       ".view_black_edges {\n",
       "    width: 105px !important;\n",
       "}\n",
       "\n",
       ".view_button {\n",
       "    padding: 0px !important;\n",
       "}\n",
       "\n",
       ".view_button>img {\n",
       "    height: 28px;\n",
       "    width: 36px;\n",
       "}\n",
       "\n",
       ".node_entry_wrap {\n",
       "    white-space: pre;\n",
       "}\n",
       "\n",
       ".node_entry {\n",
       "    white-space: nowrap;\n",
       "    padding-top: 4px;\n",
       "}\n",
       "\n",
       ".t-caret {\n",
       "    cursor: pointer;\n",
       "    -webkit-user-select: none;\n",
       "    /* Safari 3.1+ */\n",
       "    -moz-user-select: none;\n",
       "    /* Firefox 2+ */\n",
       "    -ms-user-select: none;\n",
       "    /* IE 10+ */\n",
       "    user-select: none;\n",
       "}\n",
       "\n",
       ".t-caret-down::before {\n",
       "    -ms-transform: rotate(90deg);\n",
       "    /* IE 9 */\n",
       "    -webkit-transform: rotate(90deg);\n",
       "    /* Safari */\n",
       "    transform: rotate(90deg);\n",
       "}\n",
       "\n",
       ".toplevel {\n",
       "    list-style-type: none;\n",
       "    padding-inline-start: 0px;\n",
       "}\n",
       "\n",
       ".nested {\n",
       "    display: none;\n",
       "    list-style-type: none;\n",
       "    padding-inline-start: 16px;\n",
       "}\n",
       "\n",
       ".active {\n",
       "    display: block;\n",
       "}\n",
       "\n",
       ".icon {\n",
       "    width: 28px !important;\n",
       "    height: 22px !important;\n",
       "    padding-right: 2px;\n",
       "    vertical-align: middle;\n",
       "}\n",
       "\n",
       ".indent {\n",
       "    margin-left: 12px;\n",
       "}\n",
       "\n",
       ".tree_label {\n",
       "    padding-left: 2px;\n",
       "    font-size: 14px;\n",
       "}\n",
       "\n",
       ".scroll_down {\n",
       "    display: flex;\n",
       "    flex-direction: column-reverse;\n",
       "}\n",
       "\n",
       ".small_table {\n",
       "    line-height: 14px;\n",
       "}\n",
       "\n",
       ".monospace select {\n",
       "    font-family: monospace;\n",
       "}\n",
       "\n",
       "        .t-caret::before {\n",
       "            content: u\"▶\";\n",
       "            font-size: 12px;\n",
       "            color: \"#080808\";\n",
       "            display: inline-block;\n",
       "            margin-right: 2px;\n",
       "        }\n",
       "\n",
       "        .mac-scrollbar::-webkit-scrollbar-thumb {\n",
       "            background-color: rgba(0, 0, 0, 0.2) !important;\n",
       "            border-radius: 100px !important;\n",
       "        }\n",
       "\n",
       "        .mac-scrollbar::-webkit-scrollbar-thumb:hover {\n",
       "            background: rgba(0, 0, 0, 0.4) !important;\n",
       "        }\n",
       "\n",
       "        .mac-scrollbar::-webkit-scrollbar-thumb:active {\n",
       "            background: #181818 !important;\n",
       "        }\n",
       "\n",
       "        .mac-scrollbar::-webkit-scrollbar-corner {\n",
       "            background: white;\n",
       "        }\n",
       "\n",
       "        .view_output {\n",
       "            border: 1px solid var(--jp-border-color1);\n",
       "            margin: 2px 2px 2px 2px !important;\n",
       "            padding-right: 1px !important;\n",
       "            background-color: white;\n",
       "        }\n",
       "    </style>"
      ],
      "text/plain": [
       "<IPython.core.display.HTML object>"
      ]
     },
     "metadata": {},
     "output_type": "display_data"
    }
   ],
   "source": [
    "import cadquery as cq\n",
    "import numpy as np\n",
    "from jupyter_cadquery.cadquery import show\n",
    "from jupyter_cadquery import set_defaults, set_sidecar\n",
    "from jupyter_cadquery.cadquery import PartGroup, Part, Edges, Faces, Vertices\n",
    "from jupyter_cadquery.cad_animation import Animation\n",
    "\n",
    "\n",
    "set_defaults(display='sidecar', axes=False, axes0=True, grid=False,\n",
    "             default_color='lightgrey', tools=True, ortho=True, black_edges=True)\n",
    "\n",
    "from cq_gears import (SpurGear, HerringboneGear, RackGear, HerringboneRackGear,\n",
    "                      PlanetaryGearset, HerringbonePlanetaryGearset,\n",
    "                      BevelGearPair, Worm)\n",
    "\n",
    "set_sidecar('Gears', init=True)"
   ]
  },
  {
   "cell_type": "code",
   "execution_count": 2,
   "id": "44118b21-996c-410f-b2b2-8fb0c74c2d40",
   "metadata": {},
   "outputs": [],
   "source": [
    "L = lambda *args: cq.Location(cq.Vector(*args))\n",
    "Lrz = lambda loc, r: cq.Location(cq.Vector(*loc), cq.Vector(0.0, 0.0, 1.0), r)\n",
    "C = lambda *args: cq.Color(*args)"
   ]
  },
  {
   "cell_type": "code",
   "execution_count": 3,
   "id": "f61f975c-f0c5-4181-be4f-5f2bfb830595",
   "metadata": {},
   "outputs": [],
   "source": [
    "def animate_pinion_and_gear(pinion, gear):\n",
    "    ratio = pinion.z / gear.z\n",
    "\n",
    "    asm = (cq.Assembly(name='gears')\n",
    "           .add(pinion.build(), name='pinion', color=C('goldenrod'),\n",
    "                loc=L(0.0, 0.0, 0.0))\n",
    "           .add(gear.build(), name='gear', color=C('lightsteelblue'),\n",
    "                loc=L(gear.r0 + pinion.r0, 0.0, 0.0)))\n",
    "\n",
    "    view = show(asm)\n",
    "\n",
    "    n_frames = 800\n",
    "\n",
    "    times = np.linspace(0.0, 10.0, n_frames)\n",
    "    pinion_angles = np.linspace(0.0, 360.0, n_frames)\n",
    "    gear_angles = -pinion_angles * ratio\n",
    "\n",
    "    anim = Animation(view.root_group)\n",
    "\n",
    "    anim.add_track(f'gears/pinion', 'rz', times, pinion_angles)\n",
    "    anim.add_track(f'gears/gear', 'rz', times, gear_angles)\n",
    "\n",
    "    return anim.animate(autoplay=True)"
   ]
  },
  {
   "cell_type": "code",
   "execution_count": 5,
   "id": "45b666be-2c95-48c6-bf56-7197b12b4440",
   "metadata": {},
   "outputs": [
    {
     "name": "stdout",
     "output_type": "stream",
     "text": [
      "Done, using side car 'Gears'\n"
     ]
    },
    {
     "data": {
      "application/vnd.jupyter.widget-view+json": {
       "model_id": "aa453342887d43a3a20ddebe3a95e6e5",
       "version_major": 2,
       "version_minor": 0
      },
      "text/plain": [
       "AnimationAction(clip=AnimationClip(tracks=(QuaternionKeyframeTrack(name='gears\\\\pinion.quaternion', times=arra…"
      ]
     },
     "metadata": {},
     "output_type": "display_data"
    }
   ],
   "source": [
    "pinion = SpurGear(2.0, 17, 10.0, helix_angle=0.0, bore_d=10.0, chamfer=0.5)\n",
    "gear = SpurGear(2.0, 29, 10.0, helix_angle=0.0, bore_d=10.0, chamfer=0.5,\n",
    "                n_spokes=4, spokes_id=20.0, spokes_od=44.0, spoke_width=6.0,\n",
    "                spoke_fillet=4.0)\n",
    "\n",
    "animate_pinion_and_gear(pinion, gear)"
   ]
  },
  {
   "cell_type": "code",
   "execution_count": 6,
   "id": "a4c9aa21-7a3e-43d3-896d-3381441efe41",
   "metadata": {},
   "outputs": [
    {
     "name": "stdout",
     "output_type": "stream",
     "text": [
      "Done, using side car 'Gears'\n"
     ]
    },
    {
     "data": {
      "application/vnd.jupyter.widget-view+json": {
       "model_id": "fd98275ec7d5487fae0b91cad30fda87",
       "version_major": 2,
       "version_minor": 0
      },
      "text/plain": [
       "AnimationAction(clip=AnimationClip(tracks=(QuaternionKeyframeTrack(name='gears\\\\pinion.quaternion', times=arra…"
      ]
     },
     "metadata": {},
     "output_type": "display_data"
    }
   ],
   "source": [
    "pinion = SpurGear(2.0, 17, 10.0, helix_angle=30.0, bore_d=10.0, chamfer=0.5)\n",
    "gear = SpurGear(2.0, 29, 10.0, helix_angle=-30.0, bore_d=10.0, chamfer=0.5,\n",
    "                n_spokes=4, spokes_id=20.0, spokes_od=44.0, spoke_width=6.0,\n",
    "                spoke_fillet=4.0)\n",
    "\n",
    "animate_pinion_and_gear(pinion, gear)"
   ]
  },
  {
   "cell_type": "code",
   "execution_count": 7,
   "id": "fc0f6e8c-9384-47c2-a402-79d497229a3d",
   "metadata": {},
   "outputs": [
    {
     "name": "stdout",
     "output_type": "stream",
     "text": [
      "Done, using side car 'Gears'\n"
     ]
    },
    {
     "data": {
      "application/vnd.jupyter.widget-view+json": {
       "model_id": "644fbcee7fba40d29003d3dc5bf2af86",
       "version_major": 2,
       "version_minor": 0
      },
      "text/plain": [
       "AnimationAction(clip=AnimationClip(tracks=(QuaternionKeyframeTrack(name='gears\\\\pinion.quaternion', times=arra…"
      ]
     },
     "metadata": {},
     "output_type": "display_data"
    }
   ],
   "source": [
    "pinion = HerringboneGear(2.0, 17, 10.0, helix_angle=-30.0, bore_d=10.0)\n",
    "gear = HerringboneGear(2.0, 29, 10.0, helix_angle=30.0, bore_d=10.0,\n",
    "                n_spokes=4, spokes_id=20.0, spokes_od=44.0, spoke_width=6.0,\n",
    "                spoke_fillet=4.0)\n",
    "\n",
    "animate_pinion_and_gear(pinion, gear)"
   ]
  },
  {
   "cell_type": "code",
   "execution_count": 59,
   "id": "02247639-9d6d-4425-950f-ae8c27b03bf5",
   "metadata": {},
   "outputs": [],
   "source": [
    "def animate_rack_and_pinion(rack, pinion):\n",
    "    cfr = pinion.r0 * 2.0 * np.pi\n",
    "    rp = cfr / pinion.z\n",
    "    start_x = rp * 1.0\n",
    "    end_x = rack.length - rp * 2.0\n",
    "    start_angle = 360.0 / pinion.z * 2.0\n",
    "    end_angle = (end_x - start_x) / cfr * 360.0\n",
    "    \n",
    "    asm = (cq.Assembly(name='gears')\n",
    "           .add(rack.build(), name='rack', color=C('goldenrod'),\n",
    "                loc=L(0.0, 0.0, 0.0))\n",
    "           .add(pinion.build(), name='pinion', color=C('lightsteelblue'),\n",
    "                loc=Lrz((start_x, pinion.r0, 0.0), start_angle))\n",
    "          )\n",
    "\n",
    "    view = show(asm)\n",
    "\n",
    "    n_frames = 800\n",
    "\n",
    "    times = np.linspace(0.0, 10.0, n_frames)\n",
    "    pinion_angles = -np.linspace(0.0, end_angle, n_frames // 2)\n",
    "    pinion_angles = np.concatenate((pinion_angles,\n",
    "                                -np.linspace(end_angle, 0.0, n_frames // 2)))\n",
    "    pinion_tx = np.linspace(start_x, end_x, n_frames // 2)\n",
    "    pinion_tx = np.concatenate((pinion_tx, \n",
    "                                np.linspace(end_x, start_x, n_frames // 2)))\n",
    "\n",
    "    anim = Animation(view.root_group)\n",
    "\n",
    "    anim.add_track(f'gears/pinion', 'rz', times, pinion_angles)\n",
    "    anim.add_track(f'gears/pinion', 'tx', times, pinion_tx)\n",
    "\n",
    "    return anim.animate(autoplay=True)\n"
   ]
  },
  {
   "cell_type": "code",
   "execution_count": 100,
   "id": "7eb446ed-e995-41ca-a140-c707293d1b85",
   "metadata": {},
   "outputs": [
    {
     "name": "stdout",
     "output_type": "stream",
     "text": [
      "Done, using side car 'Gears'\n"
     ]
    },
    {
     "data": {
      "application/vnd.jupyter.widget-view+json": {
       "model_id": "e25f0dcab82046848f99c90e7fe09c68",
       "version_major": 2,
       "version_minor": 0
      },
      "text/plain": [
       "AnimationAction(clip=AnimationClip(tracks=(QuaternionKeyframeTrack(name='gears\\\\pinion.quaternion', times=arra…"
      ]
     },
     "metadata": {},
     "output_type": "display_data"
    }
   ],
   "source": [
    "pinion = SpurGear(2.0, 30, 10.0, bore_d=10.0, chamfer=0.5)\n",
    "rack = RackGear(2.0, length=140.0, width=10.0, height=20.0)\n",
    "\n",
    "animate_rack_and_pinion(rack, pinion)"
   ]
  },
  {
   "cell_type": "code",
   "execution_count": 61,
   "id": "4ad010df-19a7-4e03-b93b-4293b597b548",
   "metadata": {},
   "outputs": [
    {
     "name": "stdout",
     "output_type": "stream",
     "text": [
      "Done, using side car 'Gears'\n"
     ]
    },
    {
     "data": {
      "application/vnd.jupyter.widget-view+json": {
       "model_id": "106017002f5d450891f653dee089e00d",
       "version_major": 2,
       "version_minor": 0
      },
      "text/plain": [
       "AnimationAction(clip=AnimationClip(tracks=(QuaternionKeyframeTrack(name='gears\\\\pinion.quaternion', times=arra…"
      ]
     },
     "metadata": {},
     "output_type": "display_data"
    }
   ],
   "source": [
    "pinion = SpurGear(2.0, 18, 10.0, helix_angle=30.0, bore_d=10.0, chamfer=0.5)\n",
    "rack = RackGear(2.0, length=140.0, width=10.0, height=20.0, helix_angle=-30.0)\n",
    "\n",
    "animate_rack_and_pinion(rack, pinion)"
   ]
  },
  {
   "cell_type": "code",
   "execution_count": 11,
   "id": "ecc712fe-073d-44da-b9a6-e1a700b1e6e4",
   "metadata": {},
   "outputs": [
    {
     "name": "stdout",
     "output_type": "stream",
     "text": [
      "Done, using side car 'Gears'\n"
     ]
    },
    {
     "data": {
      "application/vnd.jupyter.widget-view+json": {
       "model_id": "ae50a0392af14bc3af1a078223c30927",
       "version_major": 2,
       "version_minor": 0
      },
      "text/plain": [
       "AnimationAction(clip=AnimationClip(tracks=(QuaternionKeyframeTrack(name='gears\\\\pinion.quaternion', times=arra…"
      ]
     },
     "metadata": {},
     "output_type": "display_data"
    }
   ],
   "source": [
    "pinion = HerringboneGear(2.0, 18, 10.0, helix_angle=30.0, bore_d=10.0, chamfer=0.5)\n",
    "rack = HerringboneRackGear(2.0, length=140.0, width=10.0, height=20.0, helix_angle=-30.0)\n",
    "\n",
    "animate_rack_and_pinion(rack, pinion)"
   ]
  },
  {
   "cell_type": "code",
   "execution_count": 12,
   "id": "0df2c86c-86f7-440f-a4d5-8afc41536de1",
   "metadata": {},
   "outputs": [],
   "source": [
    "def animate_planetary_gearset(gearset):\n",
    "    planet_ratio = gearset.sun.z / (gearset.planet.z * 2.0)\n",
    "    carrier_ratio = 1.0 / (gearset.ring.z / gearset.sun.z + 1.0)\n",
    "\n",
    "    asm = gearset.assemble()\n",
    "    view = show(asm)\n",
    "\n",
    "    n_frames = 4000\n",
    "\n",
    "    times = np.linspace(0.0, 60.0, n_frames)\n",
    "    sun_angles = np.linspace(0.0, 360.0 * 4.0, n_frames)\n",
    "    carrier_angles = sun_angles * carrier_ratio\n",
    "    planet_angles = -sun_angles * planet_ratio\n",
    "\n",
    "    anim = Animation(view.root_group)\n",
    "\n",
    "    anim.add_track(f'planetary/sun', 'rz', times, sun_angles)\n",
    "    anim.add_track(f'planetary/planets', 'rz', times, carrier_angles)\n",
    "\n",
    "    for i in range(gearset.n_planets):\n",
    "        anim.add_track(f'planetary/planets/planet_{i:02}', 'rz', times,\n",
    "                       planet_angles - carrier_angles)\n",
    "\n",
    "    return anim.animate(autoplay=True)"
   ]
  },
  {
   "cell_type": "code",
   "execution_count": 13,
   "id": "2056aab6-064a-4d82-b5b2-dbafe9ea1da6",
   "metadata": {},
   "outputs": [
    {
     "name": "stdout",
     "output_type": "stream",
     "text": [
      "Done, using side car 'Gears'\n"
     ]
    },
    {
     "data": {
      "application/vnd.jupyter.widget-view+json": {
       "model_id": "6febacff6b9d4890b391fed4bf44d691",
       "version_major": 2,
       "version_minor": 0
      },
      "text/plain": [
       "AnimationAction(clip=AnimationClip(tracks=(QuaternionKeyframeTrack(name='planetary\\\\sun.quaternion', times=arr…"
      ]
     },
     "metadata": {},
     "output_type": "display_data"
    }
   ],
   "source": [
    "gearset = PlanetaryGearset(module=1.0,\n",
    "                           sun_teeth_number=40, planet_teeth_number=20,\n",
    "                           width=10.0, rim_width=5.0, n_planets=6,\n",
    "                           bore_d=6.0, chamfer=0.5,\n",
    "                           sun_build_args={'bore_d': 20.0})\n",
    "\n",
    "animate_planetary_gearset(gearset)"
   ]
  },
  {
   "cell_type": "code",
   "execution_count": 14,
   "id": "5dbc2089-742f-4083-a1e5-26aefb8ee722",
   "metadata": {},
   "outputs": [
    {
     "name": "stdout",
     "output_type": "stream",
     "text": [
      "Done, using side car 'Gears'\n"
     ]
    },
    {
     "data": {
      "application/vnd.jupyter.widget-view+json": {
       "model_id": "818ef5e5cb3a47289cdf5ed8f94afc3f",
       "version_major": 2,
       "version_minor": 0
      },
      "text/plain": [
       "AnimationAction(clip=AnimationClip(tracks=(QuaternionKeyframeTrack(name='planetary\\\\sun.quaternion', times=arr…"
      ]
     },
     "metadata": {},
     "output_type": "display_data"
    }
   ],
   "source": [
    "gearset = PlanetaryGearset(module=1.0, helix_angle=30.0,\n",
    "                           sun_teeth_number=40, planet_teeth_number=20,\n",
    "                           width=10.0, rim_width=5.0, n_planets=6,\n",
    "                           bore_d=6.0, chamfer=0.5,\n",
    "                           sun_build_args={'bore_d': 20.0})\n",
    "\n",
    "animate_planetary_gearset(gearset)"
   ]
  },
  {
   "cell_type": "code",
   "execution_count": 15,
   "id": "bcdb9992-afb0-4bb5-9c39-3e1f5701625e",
   "metadata": {},
   "outputs": [
    {
     "name": "stdout",
     "output_type": "stream",
     "text": [
      "Done, using side car 'Gears'\n"
     ]
    },
    {
     "data": {
      "application/vnd.jupyter.widget-view+json": {
       "model_id": "a42a03d92e824d7e98a70e8ea3bbb505",
       "version_major": 2,
       "version_minor": 0
      },
      "text/plain": [
       "AnimationAction(clip=AnimationClip(tracks=(QuaternionKeyframeTrack(name='planetary\\\\sun.quaternion', times=arr…"
      ]
     },
     "metadata": {},
     "output_type": "display_data"
    }
   ],
   "source": [
    "gearset = HerringbonePlanetaryGearset(\n",
    "                           module=1.0, helix_angle=30.0,\n",
    "                           sun_teeth_number=40, planet_teeth_number=20,\n",
    "                           width=10.0, rim_width=5.0, n_planets=6,\n",
    "                           bore_d=6.0, chamfer=0.5,\n",
    "                           sun_build_args={'bore_d': 20.0})\n",
    "\n",
    "animate_planetary_gearset(gearset)"
   ]
  },
  {
   "cell_type": "code",
   "execution_count": 16,
   "id": "696197b2-0164-4f5b-a65b-d1f05cf62323",
   "metadata": {},
   "outputs": [],
   "source": [
    "def animate_bevel_gear_pair(gearset):\n",
    "    asm = gearset.assemble(transform_pinion=True)\n",
    "\n",
    "    view = show(asm)\n",
    "\n",
    "    n_frames = 4000\n",
    "    ratio = gearset.pinion.z / gearset.gear.z\n",
    "\n",
    "    times = np.linspace(0.0, 60.0, n_frames)\n",
    "    pinion_angles = np.linspace(0.0, 360.0 * 4.0, n_frames)\n",
    "    gear_angles = -pinion_angles * ratio\n",
    "\n",
    "    anim = Animation(view.root_group)\n",
    "\n",
    "    anim.add_track(f'bevel_pair/pinion', 'rz', times, pinion_angles)\n",
    "    anim.add_track(f'bevel_pair/gear', 'rz', times, gear_angles)\n",
    "\n",
    "    return anim.animate(autoplay=True)"
   ]
  },
  {
   "cell_type": "code",
   "execution_count": 17,
   "id": "6b1c29f9-1d9e-40f8-bc29-9ee456821a70",
   "metadata": {},
   "outputs": [
    {
     "name": "stdout",
     "output_type": "stream",
     "text": [
      "Done, using side car 'Gears'\n"
     ]
    },
    {
     "data": {
      "application/vnd.jupyter.widget-view+json": {
       "model_id": "be094a966ce34499aeee2ec7edb127b9",
       "version_major": 2,
       "version_minor": 0
      },
      "text/plain": [
       "AnimationAction(clip=AnimationClip(tracks=(QuaternionKeyframeTrack(name='bevel_pair\\\\pinion.quaternion', times…"
      ]
     },
     "metadata": {},
     "output_type": "display_data"
    }
   ],
   "source": [
    "gearset = BevelGearPair(module=2.0, gear_teeth=23, pinion_teeth=14,\n",
    "                        face_width=12.0, axis_angle=90.0, bore_d=12.0,\n",
    "                        pinion_build_args={'bore_d': 8.0})\n",
    "\n",
    "animate_bevel_gear_pair(gearset)"
   ]
  },
  {
   "cell_type": "code",
   "execution_count": 19,
   "id": "aef90db1-7a3f-40f1-8b44-90b2637723c1",
   "metadata": {},
   "outputs": [
    {
     "name": "stdout",
     "output_type": "stream",
     "text": [
      "Done, using side car 'Gears'\n"
     ]
    },
    {
     "data": {
      "application/vnd.jupyter.widget-view+json": {
       "model_id": "238e8fecfa374d3198c8901c6ad9fbf3",
       "version_major": 2,
       "version_minor": 0
      },
      "text/plain": [
       "AnimationAction(clip=AnimationClip(tracks=(QuaternionKeyframeTrack(name='bevel_pair\\\\pinion.quaternion', times…"
      ]
     },
     "metadata": {},
     "output_type": "display_data"
    }
   ],
   "source": [
    "gearset = BevelGearPair(module=2.0, gear_teeth=23, pinion_teeth=14,\n",
    "                        face_width=12.0, helix_angle=30.0, axis_angle=90.0,\n",
    "                        bore_d=12.0, pinion_build_args={'bore_d': 8.0})\n",
    "\n",
    "animate_bevel_gear_pair(gearset)"
   ]
  },
  {
   "cell_type": "code",
   "execution_count": null,
   "id": "fb0f86c7-b33c-42ab-b2c0-56cdc5dec275",
   "metadata": {},
   "outputs": [],
   "source": [
    "def animate_worm_and_gear(worm, gear):\n",
    "    ratio = worm.n_threads / gear.z\n",
    "    align_angle = -90.0 - np.degrees(gear.tau / 2.0 - gear.twist_angle / 2.0)\n",
    "\n",
    "    n_frames = 1000\n",
    "    times = np.linspace(0.0, 60.0, n_frames)\n",
    "    worm_angles = np.linspace(0.0, 360.0 * 10.0, n_frames)\n",
    "    gear_angles = worm_angles * ratio\n",
    "\n",
    "    asm = (cq.Assembly(name='gears')\n",
    "           .add(worm.build(), name='worm', color=C('lightsteelblue'),\n",
    "                loc=L(0.0, 0.0, worm.r0))\n",
    "           .add(gear.build(), name='gear', color=C('goldenrod'),\n",
    "                loc=Lrz((0.0,\n",
    "                         worm.r0 + gear.r0,\n",
    "                         worm.r0 - gear.width / 2.0), align_angle)))\n",
    "\n",
    "    view = show(asm)\n",
    "\n",
    "    anim = Animation(view.root_group)\n",
    "    anim.add_track('gears/worm', 'rx', times, worm_angles)\n",
    "    anim.add_track('gears/gear', 'rz', times, gear_angles)\n",
    "\n",
    "    return anim.animate(autoplay=True)\n",
    "    "
   ]
  },
  {
   "cell_type": "code",
   "execution_count": 138,
   "id": "837f9c21-0f56-4ffa-8503-b35c5a8abd3f",
   "metadata": {},
   "outputs": [
    {
     "name": "stdout",
     "output_type": "stream",
     "text": [
      "Done, using side car 'Gears'\n"
     ]
    },
    {
     "data": {
      "application/vnd.jupyter.widget-view+json": {
       "model_id": "a0f0336b62744e26bf3f93f80acef902",
       "version_major": 2,
       "version_minor": 0
      },
      "text/plain": [
       "AnimationAction(clip=AnimationClip(tracks=(QuaternionKeyframeTrack(name='gears\\\\worm.quaternion', times=array(…"
      ]
     },
     "metadata": {},
     "output_type": "display_data"
    }
   ],
   "source": [
    "lead_angle = 7.0\n",
    "worm = Worm(2.0, lead_angle, 2, 60.0, bore_d=20.0)\n",
    "gear = SpurGear(2.0, 32, 16.0, helix_angle=lead_angle, chamfer=0.5, bore_d=10.0,\n",
    "                recess_d=50.0, recess=6.0, hub_d=20.0, hub_length=5.0)\n",
    "\n",
    "animate_worm_and_gear(worm, gear)"
   ]
  },
  {
   "cell_type": "code",
   "execution_count": null,
   "id": "b7dfe391-0db4-4002-aaf0-8d5d7f83495b",
   "metadata": {},
   "outputs": [],
   "source": []
  }
 ],
 "metadata": {
  "kernelspec": {
   "display_name": "Python 3",
   "language": "python",
   "name": "python3"
  },
  "language_info": {
   "codemirror_mode": {
    "name": "ipython",
    "version": 3
   },
   "file_extension": ".py",
   "mimetype": "text/x-python",
   "name": "python",
   "nbconvert_exporter": "python",
   "pygments_lexer": "ipython3",
   "version": "3.9.7"
  }
 },
 "nbformat": 4,
 "nbformat_minor": 5
}
