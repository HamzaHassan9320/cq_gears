{
 "cells": [
  {
   "cell_type": "code",
   "execution_count": null,
   "id": "95606c2d-399e-4ede-a450-3068bd422717",
   "metadata": {},
   "outputs": [],
   "source": [
    "import cadquery as cq\n",
    "import numpy as np\n",
    "from jupyter_cadquery.cadquery import show\n",
    "from jupyter_cadquery import set_defaults, set_sidecar\n",
    "from jupyter_cadquery.cadquery import PartGroup, Part, Edges, Faces, Vertices\n",
    "from jupyter_cadquery.cad_animation import Animation\n",
    "\n",
    "\n",
    "set_defaults(display='sidecar', axes=False, axes0=True, grid=False,\n",
    "             default_color='lightgrey', tools=True, ortho=True, black_edges=True)\n",
    "\n",
    "from cq_gears import (SpurGear, HerringboneGear, RackGear, HerringboneRackGear,\n",
    "                      PlanetaryGearset, HerringbonePlanetaryGearset,\n",
    "                      BevelGearPair, Worm, CrossedGearPair, HyperbolicGearPair)\n",
    "\n",
    "set_sidecar('Gears', init=True)"
   ]
  },
  {
   "cell_type": "code",
   "execution_count": null,
   "id": "44118b21-996c-410f-b2b2-8fb0c74c2d40",
   "metadata": {},
   "outputs": [],
   "source": [
    "L = lambda *args: cq.Location(cq.Vector(*args))\n",
    "Lrz = lambda loc, r: cq.Location(cq.Vector(*loc), cq.Vector(0.0, 0.0, 1.0), r)\n",
    "C = lambda *args: cq.Color(*args)"
   ]
  },
  {
   "cell_type": "markdown",
   "id": "645ad6ca-cdde-4873-848e-97bcf581f589",
   "metadata": {},
   "source": [
    "## Parallel axes gears"
   ]
  },
  {
   "cell_type": "code",
   "execution_count": null,
   "id": "f61f975c-f0c5-4181-be4f-5f2bfb830595",
   "metadata": {
    "jupyter": {
     "source_hidden": true
    },
    "tags": []
   },
   "outputs": [],
   "source": [
    "def animate_pinion_and_gear(pinion, gear):\n",
    "    ratio = pinion.z / gear.z\n",
    "\n",
    "    asm = (cq.Assembly(name='gears')\n",
    "           .add(pinion.build(), name='pinion', color=C('goldenrod'),\n",
    "                loc=L(0.0, 0.0, 0.0))\n",
    "           .add(gear.build(), name='gear', color=C('lightsteelblue'),\n",
    "                loc=L(gear.r0 + pinion.r0, 0.0, 0.0)))\n",
    "\n",
    "    view = show(asm)\n",
    "\n",
    "    n_frames = 800\n",
    "\n",
    "    times = np.linspace(0.0, 10.0, n_frames)\n",
    "    pinion_angles = np.linspace(0.0, 360.0, n_frames)\n",
    "    gear_angles = -pinion_angles * ratio\n",
    "\n",
    "    anim = Animation(view.root_group)\n",
    "\n",
    "    anim.add_track(f'gears/pinion', 'rz', times, pinion_angles)\n",
    "    anim.add_track(f'gears/gear', 'rz', times, gear_angles)\n",
    "\n",
    "    return anim.animate(autoplay=True)"
   ]
  },
  {
   "cell_type": "markdown",
   "id": "ac41d845-4691-463b-b221-c8b1138155e7",
   "metadata": {},
   "source": [
    "### Spur gears"
   ]
  },
  {
   "cell_type": "code",
   "execution_count": null,
   "id": "45b666be-2c95-48c6-bf56-7197b12b4440",
   "metadata": {},
   "outputs": [],
   "source": [
    "pinion = SpurGear(module=2.0, teeth_number=17, width=10.0, helix_angle=0.0,\n",
    "                  bore_d=10.0, chamfer=0.5)\n",
    "gear = SpurGear(module=2.0, teeth_number=29, width=10.0, helix_angle=0.0,\n",
    "                bore_d=10.0, chamfer=0.5, n_spokes=4, spokes_id=20.0,\n",
    "                spokes_od=44.0, spoke_width=6.0, spoke_fillet=4.0)\n",
    "\n",
    "animate_pinion_and_gear(pinion, gear)"
   ]
  },
  {
   "cell_type": "markdown",
   "id": "542aaa6f-d614-4cef-961a-7e424fde8f91",
   "metadata": {},
   "source": [
    "### Helical gears"
   ]
  },
  {
   "cell_type": "code",
   "execution_count": null,
   "id": "a4c9aa21-7a3e-43d3-896d-3381441efe41",
   "metadata": {},
   "outputs": [],
   "source": [
    "pinion = SpurGear(module=2.0, teeth_number=17, width=10.0, helix_angle=30.0,\n",
    "                  bore_d=10.0, chamfer=0.5)\n",
    "gear = SpurGear(module=2.0, teeth_number=29, width=10.0, helix_angle=-30.0,\n",
    "                bore_d=10.0, chamfer=0.5, n_spokes=4, spokes_id=20.0,\n",
    "                spokes_od=44.0, spoke_width=6.0, spoke_fillet=4.0)\n",
    "\n",
    "animate_pinion_and_gear(pinion, gear)"
   ]
  },
  {
   "cell_type": "markdown",
   "id": "c2768b77-b48f-48e1-89a0-4c310311074a",
   "metadata": {},
   "source": [
    "### Herringbone gears"
   ]
  },
  {
   "cell_type": "code",
   "execution_count": null,
   "id": "fc0f6e8c-9384-47c2-a402-79d497229a3d",
   "metadata": {},
   "outputs": [],
   "source": [
    "pinion = HerringboneGear(module=2.0, teeth_number=17, width=10.0,\n",
    "                         helix_angle=-30.0, bore_d=10.0)\n",
    "gear = HerringboneGear(module=2.0, teeth_number=29, width=10.0,\n",
    "                       helix_angle=30.0, bore_d=10.0, n_spokes=4,\n",
    "                       spokes_id=20.0, spokes_od=44.0, spoke_width=6.0,\n",
    "                       spoke_fillet=4.0)\n",
    "\n",
    "animate_pinion_and_gear(pinion, gear)"
   ]
  },
  {
   "cell_type": "markdown",
   "id": "736287c1-6374-4bac-bf76-966bd0e9bb33",
   "metadata": {},
   "source": [
    "## Gear rack and pinion"
   ]
  },
  {
   "cell_type": "code",
   "execution_count": null,
   "id": "02247639-9d6d-4425-950f-ae8c27b03bf5",
   "metadata": {},
   "outputs": [],
   "source": [
    "def animate_rack_and_pinion(rack, pinion):\n",
    "    cfr = pinion.r0 * 2.0 * np.pi\n",
    "    rp = cfr / pinion.z\n",
    "    start_x = rp * 1.0\n",
    "    end_x = rack.length - rp * 2.0\n",
    "    start_angle = 360.0 / pinion.z * 2.0 - 90.0 + np.degrees(pinion.tau) / 2.0\n",
    "    end_angle = (end_x - start_x) / cfr * 360.0\n",
    "    \n",
    "    asm = (cq.Assembly(name='gears')\n",
    "           .add(rack.build(), name='rack', color=C('goldenrod'),\n",
    "                loc=L(0.0, 0.0, 0.0))\n",
    "           .add(pinion.build(), name='pinion', color=C('lightsteelblue'),\n",
    "                loc=Lrz((start_x, pinion.r0, 0.0), start_angle))\n",
    "          )\n",
    "\n",
    "    view = show(asm)\n",
    "\n",
    "    n_frames = 800\n",
    "\n",
    "    times = np.linspace(0.0, 10.0, n_frames)\n",
    "    pinion_angles = -np.linspace(0.0, end_angle, n_frames // 2)\n",
    "    pinion_angles = np.concatenate((pinion_angles,\n",
    "                                -np.linspace(end_angle, 0.0, n_frames // 2)))\n",
    "    pinion_tx = np.linspace(start_x, end_x, n_frames // 2)\n",
    "    pinion_tx = np.concatenate((pinion_tx, \n",
    "                                np.linspace(end_x, start_x, n_frames // 2)))\n",
    "\n",
    "    anim = Animation(view.root_group)\n",
    "\n",
    "    anim.add_track(f'gears/pinion', 'rz', times, pinion_angles)\n",
    "    anim.add_track(f'gears/pinion', 'tx', times, pinion_tx)\n",
    "\n",
    "    return anim.animate(autoplay=True)\n"
   ]
  },
  {
   "cell_type": "markdown",
   "id": "e758ab17-29de-44c7-9f2a-48fa1cf81180",
   "metadata": {},
   "source": [
    "### Straigh teeth rack and pinion"
   ]
  },
  {
   "cell_type": "code",
   "execution_count": null,
   "id": "7eb446ed-e995-41ca-a140-c707293d1b85",
   "metadata": {},
   "outputs": [],
   "source": [
    "pinion = SpurGear(module=2.0, teeth_number=18, width=10.0,\n",
    "                  bore_d=10.0, chamfer=0.5)\n",
    "rack = RackGear(module=2.0, length=140.0, width=10.0, height=20.0)\n",
    "\n",
    "animate_rack_and_pinion(rack, pinion)"
   ]
  },
  {
   "cell_type": "markdown",
   "id": "1abc0e58-9d7e-44f6-acf5-660427bde677",
   "metadata": {},
   "source": [
    "### Helical rack and pinion"
   ]
  },
  {
   "cell_type": "code",
   "execution_count": null,
   "id": "4ad010df-19a7-4e03-b93b-4293b597b548",
   "metadata": {},
   "outputs": [],
   "source": [
    "pinion = SpurGear(module=2.0, teeth_number=18, width=10.0, helix_angle=30.0,\n",
    "                  bore_d=10.0, chamfer=0.5)\n",
    "rack = RackGear(module=2.0, length=140.0, width=10.0, height=20.0,\n",
    "                helix_angle=-30.0)\n",
    "\n",
    "animate_rack_and_pinion(rack, pinion)"
   ]
  },
  {
   "cell_type": "markdown",
   "id": "a280a4fd-9f5d-4952-abfc-3534b944185d",
   "metadata": {},
   "source": [
    "### Herringbone rack and pinion"
   ]
  },
  {
   "cell_type": "code",
   "execution_count": null,
   "id": "ecc712fe-073d-44da-b9a6-e1a700b1e6e4",
   "metadata": {},
   "outputs": [],
   "source": [
    "pinion = HerringboneGear(module=2.0, teeth_number=18, width=10.0,\n",
    "                         helix_angle=30.0, bore_d=10.0, chamfer=0.5)\n",
    "rack = HerringboneRackGear(module=2.0, length=140.0, width=10.0, height=20.0,\n",
    "                           helix_angle=-30.0)\n",
    "\n",
    "animate_rack_and_pinion(rack, pinion)"
   ]
  },
  {
   "cell_type": "markdown",
   "id": "a5b20e0b-75b3-44a4-aba6-5d27d73222fc",
   "metadata": {},
   "source": [
    "## Planetary gearsets"
   ]
  },
  {
   "cell_type": "code",
   "execution_count": null,
   "id": "0df2c86c-86f7-440f-a4d5-8afc41536de1",
   "metadata": {},
   "outputs": [],
   "source": [
    "def animate_planetary_gearset(gearset):\n",
    "    planet_ratio = gearset.sun.z / (gearset.planet.z * 2.0)\n",
    "    carrier_ratio = 1.0 / (gearset.ring.z / gearset.sun.z + 1.0)\n",
    "\n",
    "    asm = gearset.assemble()\n",
    "    view = show(asm)\n",
    "\n",
    "    n_frames = 4000\n",
    "\n",
    "    times = np.linspace(0.0, 60.0, n_frames)\n",
    "    sun_angles = np.linspace(0.0, 360.0 * 4.0, n_frames)\n",
    "    carrier_angles = sun_angles * carrier_ratio\n",
    "    planet_angles = -sun_angles * planet_ratio\n",
    "\n",
    "    anim = Animation(view.root_group)\n",
    "\n",
    "    anim.add_track(f'planetary/sun', 'rz', times, sun_angles)\n",
    "    anim.add_track(f'planetary/planets', 'rz', times, carrier_angles)\n",
    "\n",
    "    for i in range(gearset.n_planets):\n",
    "        anim.add_track(f'planetary/planets/planet_{i:02}', 'rz', times,\n",
    "                       planet_angles - carrier_angles)\n",
    "\n",
    "    return anim.animate(autoplay=True)"
   ]
  },
  {
   "cell_type": "markdown",
   "id": "71029871-2c44-44a4-8912-204198b5c1ce",
   "metadata": {},
   "source": [
    "### Straight teeth planetary gearset"
   ]
  },
  {
   "cell_type": "code",
   "execution_count": null,
   "id": "2056aab6-064a-4d82-b5b2-dbafe9ea1da6",
   "metadata": {},
   "outputs": [],
   "source": [
    "gearset = PlanetaryGearset(module=1.0,\n",
    "                           sun_teeth_number=40, planet_teeth_number=20,\n",
    "                           width=10.0, rim_width=5.0, n_planets=6,\n",
    "                           bore_d=6.0, chamfer=0.5,\n",
    "                           sun_build_args={'bore_d': 20.0})\n",
    "\n",
    "animate_planetary_gearset(gearset)"
   ]
  },
  {
   "cell_type": "markdown",
   "id": "e3dd91ac-bdc5-4c5e-9255-9ae998a439cd",
   "metadata": {},
   "source": [
    "### Helical planetary gearset"
   ]
  },
  {
   "cell_type": "code",
   "execution_count": null,
   "id": "5dbc2089-742f-4083-a1e5-26aefb8ee722",
   "metadata": {},
   "outputs": [],
   "source": [
    "gearset = PlanetaryGearset(module=1.0, helix_angle=30.0,\n",
    "                           sun_teeth_number=40, planet_teeth_number=20,\n",
    "                           width=10.0, rim_width=5.0, n_planets=6,\n",
    "                           bore_d=6.0, chamfer=0.5,\n",
    "                           sun_build_args={'bore_d': 20.0})\n",
    "\n",
    "animate_planetary_gearset(gearset)"
   ]
  },
  {
   "cell_type": "markdown",
   "id": "8bebd3fe-1aa1-40e0-a774-a42c99f367cb",
   "metadata": {},
   "source": [
    "### Herringbone planetary gearset"
   ]
  },
  {
   "cell_type": "code",
   "execution_count": null,
   "id": "bcdb9992-afb0-4bb5-9c39-3e1f5701625e",
   "metadata": {},
   "outputs": [],
   "source": [
    "gearset = HerringbonePlanetaryGearset(\n",
    "                           module=1.0, helix_angle=30.0,\n",
    "                           sun_teeth_number=40, planet_teeth_number=20,\n",
    "                           width=10.0, rim_width=5.0, n_planets=6,\n",
    "                           bore_d=6.0, chamfer=0.5,\n",
    "                           sun_build_args={'bore_d': 20.0})\n",
    "\n",
    "animate_planetary_gearset(gearset)"
   ]
  },
  {
   "cell_type": "markdown",
   "id": "bf11dec0-5aff-4a75-870e-d6fc4e335842",
   "metadata": {},
   "source": [
    "## Bevel gears"
   ]
  },
  {
   "cell_type": "code",
   "execution_count": null,
   "id": "696197b2-0164-4f5b-a65b-d1f05cf62323",
   "metadata": {},
   "outputs": [],
   "source": [
    "def animate_bevel_gear_pair(gearset):\n",
    "    asm = gearset.assemble(transform_pinion=True)\n",
    "\n",
    "    view = show(asm)\n",
    "\n",
    "    n_frames = 4000\n",
    "    ratio = gearset.pinion.z / gearset.gear.z\n",
    "\n",
    "    times = np.linspace(0.0, 60.0, n_frames)\n",
    "    pinion_angles = np.linspace(0.0, 360.0 * 4.0, n_frames)\n",
    "    gear_angles = -pinion_angles * ratio\n",
    "\n",
    "    anim = Animation(view.root_group)\n",
    "\n",
    "    anim.add_track(f'bevel_pair/pinion', 'rz', times, pinion_angles)\n",
    "    anim.add_track(f'bevel_pair/gear', 'rz', times, gear_angles)\n",
    "\n",
    "    return anim.animate(autoplay=True)"
   ]
  },
  {
   "cell_type": "markdown",
   "id": "b3322b32-7b25-47d2-bebd-202f16b133dd",
   "metadata": {},
   "source": [
    "### Straight bevel gears"
   ]
  },
  {
   "cell_type": "code",
   "execution_count": null,
   "id": "6b1c29f9-1d9e-40f8-bc29-9ee456821a70",
   "metadata": {},
   "outputs": [],
   "source": [
    "gearset = BevelGearPair(module=2.0, gear_teeth=23, pinion_teeth=14,\n",
    "                        face_width=12.0, axis_angle=90.0, bore_d=12.0,\n",
    "                        pinion_build_args={'bore_d': 8.0})\n",
    "\n",
    "animate_bevel_gear_pair(gearset)"
   ]
  },
  {
   "cell_type": "markdown",
   "id": "700da365-4a24-4204-8919-8420a9b508ab",
   "metadata": {},
   "source": [
    "### Helical bevel gears"
   ]
  },
  {
   "cell_type": "code",
   "execution_count": null,
   "id": "aef90db1-7a3f-40f1-8b44-90b2637723c1",
   "metadata": {},
   "outputs": [],
   "source": [
    "gearset = BevelGearPair(module=2.0, gear_teeth=23, pinion_teeth=14,\n",
    "                        face_width=12.0, helix_angle=30.0, axis_angle=90.0,\n",
    "                        bore_d=12.0, pinion_build_args={'bore_d': 8.0})\n",
    "\n",
    "animate_bevel_gear_pair(gearset)"
   ]
  },
  {
   "cell_type": "markdown",
   "id": "d6880b94-9d56-4bd5-b064-6f350232a4a2",
   "metadata": {},
   "source": [
    "## Worm gears"
   ]
  },
  {
   "cell_type": "code",
   "execution_count": null,
   "id": "fb0f86c7-b33c-42ab-b2c0-56cdc5dec275",
   "metadata": {},
   "outputs": [],
   "source": [
    "def animate_worm_and_gear(worm, gear):\n",
    "    ratio = worm.n_threads / gear.z\n",
    "    align_angle = -90.0 - np.degrees(gear.tau / 2.0 - gear.twist_angle / 2.0)\n",
    "\n",
    "    n_frames = 1000\n",
    "    times = np.linspace(0.0, 60.0, n_frames)\n",
    "    worm_angles = np.linspace(0.0, 360.0 * 10.0, n_frames)\n",
    "    gear_angles = worm_angles * ratio\n",
    "\n",
    "    asm = (cq.Assembly(name='gears')\n",
    "           .add(worm.build(), name='worm', color=C('lightsteelblue'),\n",
    "                loc=L(0.0, 0.0, worm.r0))\n",
    "           .add(gear.build(), name='gear', color=C('goldenrod'),\n",
    "                loc=Lrz((0.0,\n",
    "                         worm.r0 + gear.r0,\n",
    "                         worm.r0 - gear.width / 2.0), align_angle)))\n",
    "\n",
    "    view = show(asm)\n",
    "\n",
    "    anim = Animation(view.root_group)\n",
    "    anim.add_track('gears/worm', 'rx', times, worm_angles)\n",
    "    anim.add_track('gears/gear', 'rz', times, gear_angles)\n",
    "\n",
    "    return anim.animate(autoplay=True)\n",
    "    "
   ]
  },
  {
   "cell_type": "markdown",
   "id": "5671e36f-d0e1-4e3f-8e77-7ae3b1db426e",
   "metadata": {},
   "source": [
    "### Worm and gear (non-throated)"
   ]
  },
  {
   "cell_type": "code",
   "execution_count": null,
   "id": "837f9c21-0f56-4ffa-8503-b35c5a8abd3f",
   "metadata": {},
   "outputs": [],
   "source": [
    "lead_angle = 7.0\n",
    "worm = Worm(module=2.0, lead_angle=lead_angle, n_threads=2, length=60.0,\n",
    "            bore_d=20.0)\n",
    "gear = SpurGear(module=2.0, teeth_number=32, width=16.0, helix_angle=lead_angle,\n",
    "                chamfer=0.5, bore_d=10.0, recess_d=50.0, recess=6.0,\n",
    "                hub_d=20.0, hub_length=5.0)\n",
    "\n",
    "animate_worm_and_gear(worm, gear)"
   ]
  },
  {
   "cell_type": "markdown",
   "id": "ed65b523-33b4-4aee-98e7-25efb384e6c2",
   "metadata": {},
   "source": [
    "## Crossed axes helical gears"
   ]
  },
  {
   "cell_type": "code",
   "execution_count": null,
   "id": "8050d1ef-3450-4550-8fcc-b073248ab895",
   "metadata": {},
   "outputs": [],
   "source": [
    "def animate_crossed_gear_pair(gearset):\n",
    "    asm = gearset.assemble()\n",
    "\n",
    "    view = show(asm)\n",
    "\n",
    "    n_frames = 1000\n",
    "    ratio = gearset.gear1.z / gearset.gear2.z\n",
    "\n",
    "    times = np.linspace(0.0, 60.0, n_frames)\n",
    "    gear1_angles = np.linspace(0.0, 360.0 * 4.0, n_frames)\n",
    "    gear2_angles = -gear1_angles * ratio\n",
    "\n",
    "    anim = Animation(view.root_group)\n",
    "\n",
    "    anim.add_track('crossed_pair/gear1', 'rz', times, gear1_angles)\n",
    "    anim.add_track('crossed_pair/gear2', 'rz', times, gear2_angles)\n",
    "\n",
    "    return anim.animate(autoplay=True)"
   ]
  },
  {
   "cell_type": "code",
   "execution_count": null,
   "id": "c13f124a-92c5-45ae-a74a-1dc0c9c345b5",
   "metadata": {},
   "outputs": [],
   "source": [
    "gears = CrossedGearPair(module=2.0,\n",
    "                        gear1_teeth_number=19, gear2_teeth_number=19,\n",
    "                        gear1_width=16.0, gear2_width=40.0,\n",
    "                        gear1_helix_angle=40.0, shaft_angle=90.0,\n",
    "                        bore_d=16.0, chamfer=1.0)\n",
    "\n",
    "animate_crossed_gear_pair(gears)"
   ]
  },
  {
   "cell_type": "markdown",
   "id": "2d8ae659-882f-4a78-945e-76b93c1cf464",
   "metadata": {},
   "source": [
    "## Hyperbolic gears"
   ]
  },
  {
   "cell_type": "code",
   "execution_count": null,
   "id": "21e0947e-a894-4bf0-951e-534851cb5658",
   "metadata": {},
   "outputs": [],
   "source": [
    "def animate_hyperbolic_gear_pair(gearset):\n",
    "    asm = gearset.assemble()\n",
    "\n",
    "    view = show(asm)\n",
    "\n",
    "    n_frames = 1000\n",
    "    ratio = gearset.gear1.z / gearset.gear2.z\n",
    "\n",
    "    times = np.linspace(0.0, 60.0, n_frames)\n",
    "    gear1_angles = np.linspace(0.0, 360.0 * 4.0, n_frames)\n",
    "    gear2_angles = -gear1_angles * ratio\n",
    "\n",
    "    anim = Animation(view.root_group)\n",
    "\n",
    "    anim.add_track('hyperbolic_pair/gear1', 'rz', times, gear1_angles)\n",
    "    anim.add_track('hyperbolic_pair/gear2', 'rz', times, gear2_angles)\n",
    "\n",
    "    return anim.animate(autoplay=True)"
   ]
  },
  {
   "cell_type": "code",
   "execution_count": null,
   "id": "59fa6df1-56de-43ff-ade5-74778dc47e8b",
   "metadata": {},
   "outputs": [],
   "source": [
    "gears = HyperbolicGearPair(module=2.0, gear1_teeth_number=13, width=60.0,\n",
    "                           shaft_angle=42.0, gear2_teeth_number=13,\n",
    "                           bore_d=8.0, chamfer=(4.0, 8.0))\n",
    "\n",
    "animate_hyperbolic_gear_pair(gears)"
   ]
  },
  {
   "cell_type": "code",
   "execution_count": null,
   "id": "5d1bfe85-1e38-42c9-8795-11a8d8fc9283",
   "metadata": {},
   "outputs": [],
   "source": []
  }
 ],
 "metadata": {
  "kernelspec": {
   "display_name": "Python 3",
   "language": "python",
   "name": "python3"
  },
  "language_info": {
   "codemirror_mode": {
    "name": "ipython",
    "version": 3
   },
   "file_extension": ".py",
   "mimetype": "text/x-python",
   "name": "python",
   "nbconvert_exporter": "python",
   "pygments_lexer": "ipython3",
   "version": "3.9.7"
  }
 },
 "nbformat": 4,
 "nbformat_minor": 5
}
