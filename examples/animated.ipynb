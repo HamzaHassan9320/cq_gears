{
 "cells": [
  {
   "cell_type": "code",
   "execution_count": null,
   "id": "95606c2d-399e-4ede-a450-3068bd422717",
   "metadata": {},
   "outputs": [],
   "source": [
    "import cadquery as cq\n",
    "import numpy as np\n",
    "from jupyter_cadquery.cadquery import show\n",
    "from jupyter_cadquery import set_defaults, set_sidecar\n",
    "from jupyter_cadquery.cadquery import PartGroup, Part, Edges, Faces, Vertices\n",
    "from jupyter_cadquery.cad_animation import Animation\n",
    "\n",
    "\n",
    "set_defaults(display='sidecar', axes=False, axes0=True, grid=False,\n",
    "             default_color='lightgrey', tools=True, ortho=True, black_edges=True)\n",
    "\n",
    "from cq_gears import SpurGear, HerringboneGear\n",
    "\n",
    "set_sidecar('Gears', init=True)"
   ]
  },
  {
   "cell_type": "code",
   "execution_count": null,
   "id": "f61f975c-f0c5-4181-be4f-5f2bfb830595",
   "metadata": {},
   "outputs": [],
   "source": [
    "def animate_pinion_and_gear(pinion, gear):\n",
    "    ratio = pinion.z / gear.z\n",
    "\n",
    "    L = lambda *args: cq.Location(cq.Vector(*args))\n",
    "    C = lambda *args: cq.Color(*args)\n",
    "\n",
    "    asm = (cq.Assembly(name='gears')\n",
    "           .add(pinion.build(), name='pinion', color=C('goldenrod'),\n",
    "                loc=L(0.0, 0.0, 0.0))\n",
    "           .add(gear.build(), name='gear', color=C('lightsteelblue'),\n",
    "                loc=L(gear.r0 + pinion.r0, 0.0, 0.0)))\n",
    "\n",
    "    view = show(asm)\n",
    "\n",
    "    n_frames = 800\n",
    "\n",
    "    times = np.linspace(0.0, 10.0, n_frames)\n",
    "    pinion_angles = np.linspace(0.0, 360.0, n_frames)\n",
    "    gear_angles = -pinion_angles * ratio\n",
    "\n",
    "    anim = Animation(view.root_group)\n",
    "\n",
    "    anim.add_track(f'gears/pinion', 'rz', times, pinion_angles)\n",
    "    anim.add_track(f'gears/gear', 'rz', times, gear_angles)\n",
    "\n",
    "    return anim.animate(autoplay=True)"
   ]
  },
  {
   "cell_type": "code",
   "execution_count": null,
   "id": "45b666be-2c95-48c6-bf56-7197b12b4440",
   "metadata": {},
   "outputs": [],
   "source": [
    "pinion = SpurGear(2.0, 17, 10.0, helix_angle=0.0, bore_d=10.0, chamfer=0.5)\n",
    "gear = SpurGear(2.0, 29, 10.0, helix_angle=0.0, bore_d=10.0, chamfer=0.5,\n",
    "                n_spokes=4, spokes_id=20.0, spokes_od=44.0, spoke_width=6.0,\n",
    "                spoke_fillet=4.0)\n",
    "\n",
    "animate_pinion_and_gear(pinion, gear)"
   ]
  },
  {
   "cell_type": "code",
   "execution_count": null,
   "id": "a4c9aa21-7a3e-43d3-896d-3381441efe41",
   "metadata": {},
   "outputs": [],
   "source": [
    "pinion = SpurGear(2.0, 17, 10.0, helix_angle=30.0, bore_d=10.0, chamfer=0.5)\n",
    "gear = SpurGear(2.0, 29, 10.0, helix_angle=-30.0, bore_d=10.0, chamfer=0.5,\n",
    "                n_spokes=4, spokes_id=20.0, spokes_od=44.0, spoke_width=6.0,\n",
    "                spoke_fillet=4.0)\n",
    "\n",
    "animate_pinion_and_gear(pinion, gear)"
   ]
  },
  {
   "cell_type": "code",
   "execution_count": null,
   "id": "fc0f6e8c-9384-47c2-a402-79d497229a3d",
   "metadata": {},
   "outputs": [],
   "source": [
    "pinion = HerringboneGear(2.0, 17, 10.0, helix_angle=-30.0, bore_d=10.0)\n",
    "gear = HerringboneGear(2.0, 29, 10.0, helix_angle=30.0, bore_d=10.0,\n",
    "                n_spokes=4, spokes_id=20.0, spokes_od=44.0, spoke_width=6.0,\n",
    "                spoke_fillet=4.0)\n",
    "\n",
    "animate_pinion_and_gear(pinion, gear)"
   ]
  },
  {
   "cell_type": "code",
   "execution_count": null,
   "id": "6b4fd645-343b-4165-84a4-44b0fd068136",
   "metadata": {},
   "outputs": [],
   "source": []
  }
 ],
 "metadata": {
  "kernelspec": {
   "display_name": "Python 3",
   "language": "python",
   "name": "python3"
  },
  "language_info": {
   "codemirror_mode": {
    "name": "ipython",
    "version": 3
   },
   "file_extension": ".py",
   "mimetype": "text/x-python",
   "name": "python",
   "nbconvert_exporter": "python",
   "pygments_lexer": "ipython3",
   "version": "3.9.7"
  }
 },
 "nbformat": 4,
 "nbformat_minor": 5
}
