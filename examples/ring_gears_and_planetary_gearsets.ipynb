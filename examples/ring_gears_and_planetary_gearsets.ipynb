{
 "cells": [
  {
   "cell_type": "code",
   "execution_count": null,
   "id": "7c542590-e378-4a15-b28b-0d89bfbec1ff",
   "metadata": {},
   "outputs": [],
   "source": [
    "import cadquery as cq\n",
    "from jupyter_cadquery.cadquery import show\n",
    "from jupyter_cadquery import set_defaults\n",
    "\n",
    "set_defaults(display='cell', axes=False, axes0=True, grid=True,\n",
    "             default_color='lightgrey', tools=False, ortho=True)\n",
    "\n",
    "from cq_gears import (RingGear, HerringboneRingGear,\n",
    "                      PlanetaryGearset, HerringbonePlanetaryGearset)"
   ]
  },
  {
   "cell_type": "code",
   "execution_count": null,
   "id": "381ae5a8-209f-4e95-b60a-2327d5314d7f",
   "metadata": {},
   "outputs": [],
   "source": [
    "straight_ring = RingGear(module=1.0, teeth_number=32, width=8.0, rim_width=3.0)\n",
    "\n",
    "helical_ring = RingGear(module=1.0, teeth_number=32, width=8.0,\n",
    "                        rim_width=3.0, helix_angle=30.0)\n",
    "\n",
    "hb_ring = HerringboneRingGear(module=1.0, teeth_number=32, width=8.0,\n",
    "                              rim_width=3.0, helix_angle=30.0)\n",
    "\n",
    "\n",
    "wp = (cq.Workplane('XY')\n",
    "      .gear(straight_ring)\n",
    "      .moveTo(50.0, 0.0)\n",
    "      .addGear(helical_ring)\n",
    "      .moveTo(100.0, 0.0)\n",
    "      .addGear(hb_ring))\n",
    "\n",
    "show(wp)"
   ]
  },
  {
   "cell_type": "markdown",
   "id": "9b240e8c-2edd-43f7-b413-8e0276e44830",
   "metadata": {},
   "source": [
    "## Planetary gearset with 3 planets"
   ]
  },
  {
   "cell_type": "code",
   "execution_count": null,
   "id": "6139c834-8d56-45c4-a0cb-7ca7e6d834e6",
   "metadata": {},
   "outputs": [],
   "source": [
    "gearset = PlanetaryGearset(module=1.0,\n",
    "                           sun_teeth_number=12, planet_teeth_number=18,\n",
    "                           width=10.0, rim_width=3.0, n_planets=3,\n",
    "                           bore_d=6.0)\n",
    "\n",
    "wp = cq.Workplane('XY').gear(gearset)\n",
    "show(wp)"
   ]
  },
  {
   "cell_type": "markdown",
   "id": "aa186350-44c8-483a-bb1c-da7718eb1bb1",
   "metadata": {},
   "source": [
    "## Herringbone Planetary Gearset with 4 planets"
   ]
  },
  {
   "cell_type": "code",
   "execution_count": null,
   "id": "1ff12048-b411-4ce3-8428-be11c7d9a128",
   "metadata": {},
   "outputs": [],
   "source": [
    "gearset = HerringbonePlanetaryGearset(module=1.0,\n",
    "                                      sun_teeth_number=18,\n",
    "                                      planet_teeth_number=18,\n",
    "                                      width=10.0, rim_width=3.0, n_planets=4,\n",
    "                                      helix_angle=30.0,\n",
    "                            # Set backlash and clearance for 3d-prinatability\n",
    "                                      backlash=0.3, clearance=0.2, bore_d=6.0)\n",
    "\n",
    "wp = cq.Workplane('XY').gear(gearset)\n",
    "show(wp)\n",
    "\n",
    "# Uncomment the following line to export as .stl\n",
    "# wp.val().exportStl('./hb_planetary_gearset.stl')"
   ]
  },
  {
   "cell_type": "markdown",
   "id": "815634a9-bc49-4dd7-8766-693710ad6148",
   "metadata": {},
   "source": [
    "## Double Herringbone Planetary Gearset"
   ]
  },
  {
   "cell_type": "code",
   "execution_count": null,
   "id": "47edbcca-5e6b-474f-a024-6e09ff93b767",
   "metadata": {},
   "outputs": [],
   "source": [
    "# Internal gearset\n",
    "gearset1 = HerringbonePlanetaryGearset(module=2.0,\n",
    "                                       sun_teeth_number=13,\n",
    "                                       planet_teeth_number=7,\n",
    "                                       width=10.0, rim_width=1.0, n_planets=5,\n",
    "                                       helix_angle=30.0,\n",
    "                            # Set backlash and clearance for 3d-prinatability\n",
    "                                       backlash=0.3, clearance=0.2,\n",
    "                                       bore_d=4.0, \n",
    "                            # build args could be set for sun/planets separately\n",
    "                                       sun_build_args={'bore_d': 15.0})\n",
    "\n",
    "# External gearset\n",
    "gearset2 = HerringbonePlanetaryGearset(module=2.0,\n",
    "                                       sun_teeth_number=36,\n",
    "                                       planet_teeth_number=8,\n",
    "                                       width=10.0, rim_width=4.0, n_planets=11,\n",
    "                                       helix_angle=30.0,\n",
    "                                       backlash=0.3, clearance=0.2,\n",
    "                                       bore_d=6.0,\n",
    "                                       sun_build_args={'bore_d': \n",
    "                                              gearset1.ring.rim_r * 2.0 - 1.0})\n",
    "\n",
    "wp = cq.Workplane('XY').gear(gearset1)      \n",
    "wp2 = cq.Workplane('XY').gear(gearset2)\n",
    "\n",
    "# Combining them together may take some significant amount of time\n",
    "wp = wp.add(wp2).combine()\n",
    "\n",
    "show(wp)\n",
    "\n",
    "# Uncomment the following line to export as .stl\n",
    "# gs.val().exportStl('./double_planetary_gearset.stl')"
   ]
  },
  {
   "cell_type": "code",
   "execution_count": null,
   "id": "62a71758-b9fd-484c-bbd7-d909f8529a7c",
   "metadata": {},
   "outputs": [],
   "source": []
  }
 ],
 "metadata": {
  "kernelspec": {
   "display_name": "Python 3",
   "language": "python",
   "name": "python3"
  },
  "language_info": {
   "codemirror_mode": {
    "name": "ipython",
    "version": 3
   },
   "file_extension": ".py",
   "mimetype": "text/x-python",
   "name": "python",
   "nbconvert_exporter": "python",
   "pygments_lexer": "ipython3",
   "version": "3.9.6"
  }
 },
 "nbformat": 4,
 "nbformat_minor": 5
}
