{
 "cells": [
  {
   "cell_type": "code",
   "execution_count": null,
   "id": "727b1b96-0f09-40c3-80a9-32c876a4867b",
   "metadata": {},
   "outputs": [],
   "source": [
    "import numpy as np\n",
    "import matplotlib.pyplot as plt\n",
    "from matplotlib.animation import FuncAnimation\n",
    "from mpl_toolkits.mplot3d import Axes3D\n",
    "\n",
    "from cq_gears import BevelGear\n",
    "from cq_gears.utils import sphere_to_cartesian\n",
    "\n",
    "%matplotlib widget"
   ]
  },
  {
   "cell_type": "code",
   "execution_count": null,
   "id": "911654b5-60cc-4212-bca9-f8bdbd8d35d4",
   "metadata": {},
   "outputs": [],
   "source": [
    "def plot_sphere(subplot, r, color='#aaa', alpha=0.1):\n",
    "    n = 24\n",
    "    u = np.linspace(0.0, 2.0 * np.pi, n)\n",
    "    v = np.linspace(0.0, np.pi, n)\n",
    "    x = r * np.outer(np.cos(u), np.sin(v))\n",
    "    y = r * np.outer(np.sin(u), np.sin(v))\n",
    "    z = r * np.outer(np.ones(np.size(u)), np.cos(v))\n",
    "    ax.plot_surface(x, y, z, color=color, alpha=alpha)\n"
   ]
  },
  {
   "cell_type": "markdown",
   "id": "6a702c08-b7a4-47bc-8787-7e08c649ea76",
   "metadata": {},
   "source": [
    "## Bevel Gear profile"
   ]
  },
  {
   "cell_type": "code",
   "execution_count": null,
   "id": "0159bd3c-17fa-459c-ab1f-30e3cc41676c",
   "metadata": {},
   "outputs": [],
   "source": [
    "gear = BevelGear(module=1.0,\n",
    "                 teeth_number=13,\n",
    "                 cone_angle=45.0,\n",
    "                 face_width=4.0)\n",
    "\n",
    "fig = plt.figure()\n",
    "ax = fig.add_subplot(111, projection='3d')\n",
    "ax.set_box_aspect((8.0, 8.0, 8.0), zoom=1.5)\n",
    "lim = gear.gs_r * 1.5\n",
    "ax.set_xlim3d(-lim, lim)\n",
    "ax.set_ylim3d(-lim, lim)\n",
    "ax.set_zlim3d(-lim, lim)\n",
    "\n",
    "plot_sphere(ax, gear.gs_r)\n",
    "\n",
    "pts = gear.gear_points() * gear.gs_r\n",
    "ax.plot3D(pts[:, 0], pts[:, 1], pts[:, 2])\n",
    "\n",
    "circles = (\n",
    "    (gear.gamma_p, 'pitch circle'),\n",
    "    (gear.gamma_f, 'face(addendum) circle'),\n",
    "    (gear.gamma_b, 'base circle'),\n",
    "    (gear.gamma_r, 'root(dedendum) circle'),\n",
    ")\n",
    "\n",
    "thetas = np.linspace(0.0, np.pi * 2.0, 200)\n",
    "\n",
    "for gamma, lbl in circles:\n",
    "    x, y, z = sphere_to_cartesian(gear.gs_r, gamma, thetas)\n",
    "    ax.plot3D(x, y, z, label=lbl, linestyle='--', linewidth=0.8)\n",
    "\n",
    "plt.legend(loc='lower right')"
   ]
  },
  {
   "cell_type": "code",
   "execution_count": null,
   "id": "8674b4e7-9bff-45d7-a5d1-9382c6eda236",
   "metadata": {},
   "outputs": [],
   "source": []
  }
 ],
 "metadata": {
  "kernelspec": {
   "display_name": "Python 3",
   "language": "python",
   "name": "python3"
  },
  "language_info": {
   "codemirror_mode": {
    "name": "ipython",
    "version": 3
   },
   "file_extension": ".py",
   "mimetype": "text/x-python",
   "name": "python",
   "nbconvert_exporter": "python",
   "pygments_lexer": "ipython3",
   "version": "3.9.6"
  }
 },
 "nbformat": 4,
 "nbformat_minor": 5
}
