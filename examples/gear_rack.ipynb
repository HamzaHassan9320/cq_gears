{
 "cells": [
  {
   "cell_type": "code",
   "execution_count": null,
   "id": "3975012d-961e-4641-b74f-a2f2ac192ce1",
   "metadata": {},
   "outputs": [],
   "source": [
    "import cadquery as cq\n",
    "from jupyter_cadquery.cadquery import show\n",
    "from jupyter_cadquery import set_defaults\n",
    "from math import pi\n",
    "\n",
    "set_defaults(display='cell', axes=False, axes0=True, grid=True,\n",
    "             default_color='lightgrey', tools=False)\n",
    "\n",
    "from cq_gears import SpurGear, HerringboneGear, RackGear, HerringboneRackGear"
   ]
  },
  {
   "cell_type": "markdown",
   "id": "ca07d8fc-90de-4a0c-b9ea-c422020f32ab",
   "metadata": {},
   "source": [
    "## Rack & Pinion"
   ]
  },
  {
   "cell_type": "code",
   "execution_count": null,
   "id": "707918d8-e0ab-4fac-ae57-7a4d6073fa6d",
   "metadata": {},
   "outputs": [],
   "source": [
    "# Straight rack and pinion\n",
    "rack = RackGear(module=1.0, length=150.0, width=10.0, height=20.0)\n",
    "pinion = SpurGear(module=1.0, teeth_number=34, width=10.0, backlash=0.1)\n",
    "\n",
    "\n",
    "# Helical rack and pinion\n",
    "hc_rack = RackGear(module=1.0, length=150.0, width=10.0, height=20.0,\n",
    "                   helix_angle=30.0)\n",
    "hc_pinion = SpurGear(module=1.0, teeth_number=34, width=10.0, backlash=0.1,\n",
    "                     helix_angle=-30.0)\n",
    "\n",
    "# Herringbone rack and pinion\n",
    "hb_rack = HerringboneRackGear(module=1.0, length=150.0, width=10.0, height=20.0,\n",
    "                              helix_angle=30.0)\n",
    "hb_pinion = HerringboneGear(module=1.0, teeth_number=34, width=10.0, backlash=0.1,\n",
    "                            helix_angle=-30.0)\n",
    "\n",
    "\n",
    "# Build and arrange different racks and pinions in one space\n",
    "spacing = 70.0\n",
    "\n",
    "wp = (cq.Workplane('XY')\n",
    "      .addGear(rack)\n",
    "      .moveTo(pi * pinion.r0 * 2.0 / pinion.z * 10, pinion.r0)\n",
    "      .addGear(pinion, bore_d=12.0))\n",
    "\n",
    "wp = (wp.moveTo(0.0, spacing)\n",
    "      .addGear(hc_rack)\n",
    "      .moveTo(pi * hc_pinion.r0 * 2.0 / hc_pinion.z * 23,\n",
    "              hc_pinion.r0 + spacing)\n",
    "      .addGear(hc_pinion, bore_d=12.0))\n",
    "\n",
    "wp = (wp.moveTo(0.0, spacing * 2.0)\n",
    "      .addGear(hb_rack)\n",
    "      .moveTo(pi * hb_pinion.r0 * 2.0 / hb_pinion.z * 38,\n",
    "              hb_pinion.r0 + spacing * 2.0)\n",
    "      .addGear(hb_pinion, bore_d=12.0))\n",
    "\n",
    "show(wp)"
   ]
  },
  {
   "cell_type": "code",
   "execution_count": null,
   "id": "5c952d00-9fd4-40f6-8706-22e1f13094f1",
   "metadata": {},
   "outputs": [],
   "source": []
  }
 ],
 "metadata": {
  "kernelspec": {
   "display_name": "Python 3",
   "language": "python",
   "name": "python3"
  },
  "language_info": {
   "codemirror_mode": {
    "name": "ipython",
    "version": 3
   },
   "file_extension": ".py",
   "mimetype": "text/x-python",
   "name": "python",
   "nbconvert_exporter": "python",
   "pygments_lexer": "ipython3",
   "version": "3.9.6"
  }
 },
 "nbformat": 4,
 "nbformat_minor": 5
}
