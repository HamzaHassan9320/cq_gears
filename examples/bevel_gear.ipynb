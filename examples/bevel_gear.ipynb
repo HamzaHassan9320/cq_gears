{
 "cells": [
  {
   "cell_type": "code",
   "execution_count": null,
   "id": "edd51aa6-425b-49d3-9f96-950238558f0d",
   "metadata": {},
   "outputs": [],
   "source": [
    "import cadquery as cq\n",
    "from jupyter_cadquery.cadquery import show, replay, enable_replay\n",
    "from jupyter_cadquery import set_defaults\n",
    "\n",
    "set_defaults(display='cell', axes=False, axes0=True, grid=True,\n",
    "             default_color='lightgrey', tools=False)\n",
    "\n",
    "from cq_gears import BevelGear, BevelGearPair"
   ]
  },
  {
   "cell_type": "markdown",
   "id": "af102da0-b07e-40ad-ad2d-75151e5f5a4c",
   "metadata": {},
   "source": [
    "## Straight Bevel Gear"
   ]
  },
  {
   "cell_type": "code",
   "execution_count": null,
   "id": "7ddef74b-502e-4627-b073-cde0ccd0516e",
   "metadata": {
    "tags": []
   },
   "outputs": [],
   "source": [
    "bevel_gear = BevelGear(module=1.0, teeth_number=11,\n",
    "                       cone_angle=45.0, face_width=3.0, bore_d=4.0)\n",
    "\n",
    "wp = cq.Workplane('XY').gear(bevel_gear)\n",
    "show(wp)"
   ]
  },
  {
   "cell_type": "markdown",
   "id": "94bc567d-78e7-4b5c-a855-cef59febd694",
   "metadata": {},
   "source": [
    "## Helical Bevel Gear"
   ]
  },
  {
   "cell_type": "code",
   "execution_count": null,
   "id": "f052f9e4-184b-4e36-8a15-16fcf8264071",
   "metadata": {},
   "outputs": [],
   "source": [
    "bevel_gear = BevelGear(module=1.0, teeth_number=19, cone_angle=45.0,\n",
    "                       face_width=7.0, helix_angle=30.0, bore_d=6.0)\n",
    "\n",
    "wp = cq.Workplane('XY').gear(bevel_gear)\n",
    "show(wp)\n"
   ]
  },
  {
   "cell_type": "markdown",
   "id": "6aedef72-5fbe-4af9-8069-052636de4a27",
   "metadata": {},
   "source": [
    "## Helical Bevel Gear Pair"
   ]
  },
  {
   "cell_type": "code",
   "execution_count": null,
   "id": "c93e17cb-f6b9-45ad-9d20-df454f4e644f",
   "metadata": {},
   "outputs": [],
   "source": [
    "bevel_gears = BevelGearPair(module=1.0, gear_teeth=40, pinion_teeth=20,\n",
    "                            face_width=6.0, helix_angle=42.0, axis_angle=90.0,\n",
    "                            bore_d=22.0, pinion_build_args={'bore_d': 6.0})\n",
    "\n",
    "wp = cq.Workplane('XY').gear(bevel_gears)\n",
    "show(wp)"
   ]
  },
  {
   "cell_type": "code",
   "execution_count": null,
   "id": "b572c2ef-5246-4a4e-bb30-c0a16c2bcacc",
   "metadata": {},
   "outputs": [],
   "source": []
  }
 ],
 "metadata": {
  "kernelspec": {
   "display_name": "Python 3",
   "language": "python",
   "name": "python3"
  },
  "language_info": {
   "codemirror_mode": {
    "name": "ipython",
    "version": 3
   },
   "file_extension": ".py",
   "mimetype": "text/x-python",
   "name": "python",
   "nbconvert_exporter": "python",
   "pygments_lexer": "ipython3",
   "version": "3.9.6"
  }
 },
 "nbformat": 4,
 "nbformat_minor": 5
}
