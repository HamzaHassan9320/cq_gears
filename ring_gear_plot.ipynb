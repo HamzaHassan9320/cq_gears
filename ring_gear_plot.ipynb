{
 "cells": [
  {
   "cell_type": "code",
   "execution_count": 5,
   "id": "eb70e135-d26f-4c2c-a8ec-05140b891dba",
   "metadata": {},
   "outputs": [],
   "source": [
    "%matplotlib widget\n",
    "\n",
    "import matplotlib.pyplot as plt\n",
    "import matplotlib.animation as animation\n",
    "import numpy as np\n",
    "\n",
    "from cq_gears import SpurGear, RingGear\n",
    "\n",
    "def rotate_xy(x, y, angle):\n",
    "    rx = x * np.cos(angle) - y * np.sin(angle)\n",
    "    ry = x * np.sin(angle) + y * np.cos(angle)\n",
    "    return rx, ry"
   ]
  },
  {
   "cell_type": "markdown",
   "id": "207fcab4-99c4-46af-ab73-81b0700d5e54",
   "metadata": {},
   "source": [
    "## Ring Gear profile"
   ]
  },
  {
   "cell_type": "code",
   "execution_count": null,
   "id": "13407964-f99e-4e77-a0e8-eb5445b9e0e8",
   "metadata": {},
   "outputs": [],
   "source": [
    "module = 1.0\n",
    "n_teeth = 19\n",
    "pressure_angle = 20.0\n",
    "\n",
    "fig, ax = plt.subplots(figsize=(8, 8))\n",
    "ax.set_aspect('equal')\n",
    "\n",
    "gear = RingGear(module, n_teeth, width=5.0, rim_width=1.5,\n",
    "                pressure_angle=pressure_angle)\n",
    "x, y = gear.gear_points_xy()\n",
    "ax.plot(x, y, label='gear profile', color='C0')\n",
    "\n",
    "circles = (\n",
    "    (gear.r0, 'pitch circle'),\n",
    "    (gear.ra, 'addendum circle'),\n",
    "    (gear.rb, 'base circle'),\n",
    "    (gear.rd, 'dedendum circle'),\n",
    ")\n",
    "\n",
    "t = np.linspace(0.0, np.pi * 2.0, 200)\n",
    "\n",
    "for r, lbl in circles:\n",
    "    cx = np.cos(t) * r\n",
    "    cy = np.sin(t) * r\n",
    "    ax.plot(cx, cy, label=lbl, linestyle='--', linewidth=0.8)\n",
    "\n",
    "cx = np.cos(t) * gear.rim_r\n",
    "cy = np.sin(t) * gear.rim_r\n",
    "ax.plot(cx, cy, color='C0')\n",
    "\n",
    "plt.legend(loc='center')\n",
    "plt.show()"
   ]
  },
  {
   "cell_type": "markdown",
   "id": "09536316-65b4-4a0b-8ddd-145de6762aa0",
   "metadata": {},
   "source": [
    "## Planetary Gearset"
   ]
  },
  {
   "cell_type": "code",
   "execution_count": 9,
   "id": "f27e068f-0358-409c-93f2-c6b95846c39c",
   "metadata": {},
   "outputs": [
    {
     "data": {
      "application/vnd.jupyter.widget-view+json": {
       "model_id": "ac4b8d1425744246a9fd89826cbb2e4e",
       "version_major": 2,
       "version_minor": 0
      },
      "text/plain": [
       "Canvas(toolbar=Toolbar(toolitems=[('Home', 'Reset original view', 'home', 'home'), ('Back', 'Back to previous …"
      ]
     },
     "metadata": {},
     "output_type": "display_data"
    }
   ],
   "source": [
    "animate = False # Set to True to animate\n",
    "\n",
    "module = 1.0\n",
    "sun_teeth = 32\n",
    "planet_teeth = 16\n",
    "ring_teeth = sun_teeth + planet_teeth * 2\n",
    "n_planets = 4\n",
    "\n",
    "ring = RingGear(module, ring_teeth, 5.0, 5.0)\n",
    "sun = SpurGear(module, sun_teeth, 5.0)\n",
    "planet = SpurGear(module, planet_teeth, 5.0)\n",
    "\n",
    "orbit_r = sun.r0 + planet.r0\n",
    "planet_a = np.pi * 2.0 / n_planets\n",
    "\n",
    "ratio = 1.0 / ((planet.z / sun.z) * 2.0)\n",
    "c_ratio = 1.0 / (ring.z / sun.z + 1.0)\n",
    "\n",
    "fig, ax = plt.subplots(figsize=(8, 8))\n",
    "ax.set_aspect('equal')\n",
    "\n",
    "def plot_gears(frame):\n",
    "    ax.clear()\n",
    "\n",
    "    x, y = ring.gear_points_xy()\n",
    "    ax.plot(x, y)\n",
    "\n",
    "    w = np.pi * 2.0 / 200.0 * frame\n",
    "    w1 = w * ratio\n",
    "    w2 = w * c_ratio\n",
    "    \n",
    "    x, y = sun.gear_points_xy()\n",
    "    x, y = rotate_xy(x, y, sun.tau / 2.0 + w)\n",
    "    ax.plot(x, y)\n",
    "    \n",
    "    for i in range(n_planets):\n",
    "        x, y = planet.gear_points_xy()\n",
    "        x, y = rotate_xy(x, y, -w1)\n",
    "        cx = np.cos(i * planet_a + w2) * orbit_r\n",
    "        cy = np.sin(i * planet_a + w2) * orbit_r\n",
    "        x += cx\n",
    "        y += cy\n",
    "        ax.plot(x, y, color='C2')\n",
    "\n",
    "\n",
    "if animate:\n",
    "    anim = animation.FuncAnimation(fig, plot_gears, 400, interval=25)    \n",
    "else:\n",
    "    plot_gears(0)\n",
    "\n",
    "plt.show()"
   ]
  },
  {
   "cell_type": "code",
   "execution_count": null,
   "id": "55622ad2-6490-41a3-9f2d-d9421c7a663c",
   "metadata": {},
   "outputs": [],
   "source": []
  }
 ],
 "metadata": {
  "kernelspec": {
   "display_name": "Python 3",
   "language": "python",
   "name": "python3"
  },
  "language_info": {
   "codemirror_mode": {
    "name": "ipython",
    "version": 3
   },
   "file_extension": ".py",
   "mimetype": "text/x-python",
   "name": "python",
   "nbconvert_exporter": "python",
   "pygments_lexer": "ipython3",
   "version": "3.9.6"
  }
 },
 "nbformat": 4,
 "nbformat_minor": 5
}
