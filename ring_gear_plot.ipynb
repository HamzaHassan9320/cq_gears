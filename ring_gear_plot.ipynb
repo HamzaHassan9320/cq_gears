{
 "cells": [
  {
   "cell_type": "code",
   "execution_count": 1,
   "id": "eb70e135-d26f-4c2c-a8ec-05140b891dba",
   "metadata": {},
   "outputs": [],
   "source": [
    "%matplotlib widget\n",
    "\n",
    "import matplotlib.pyplot as plt\n",
    "import matplotlib.animation as animation\n",
    "import numpy as np\n",
    "\n",
    "from cq_gears import SpurGear, RingGear\n",
    "\n",
    "def rotate_xy(x, y, angle):\n",
    "    rx = x * np.cos(angle) - y * np.sin(angle)\n",
    "    ry = x * np.sin(angle) + y * np.cos(angle)\n",
    "    return rx, ry"
   ]
  },
  {
   "cell_type": "markdown",
   "id": "207fcab4-99c4-46af-ab73-81b0700d5e54",
   "metadata": {},
   "source": [
    "## Ring Gear profile"
   ]
  },
  {
   "cell_type": "code",
   "execution_count": 2,
   "id": "13407964-f99e-4e77-a0e8-eb5445b9e0e8",
   "metadata": {},
   "outputs": [
    {
     "data": {
      "application/vnd.jupyter.widget-view+json": {
       "model_id": "946f8316349a487fad2084d505d058fc",
       "version_major": 2,
       "version_minor": 0
      },
      "text/plain": [
       "Canvas(toolbar=Toolbar(toolitems=[('Home', 'Reset original view', 'home', 'home'), ('Back', 'Back to previous …"
      ]
     },
     "metadata": {},
     "output_type": "display_data"
    }
   ],
   "source": [
    "module = 1.0\n",
    "n_teeth = 19\n",
    "pressure_angle = 20.0\n",
    "\n",
    "fig, ax = plt.subplots(figsize=(8, 8))\n",
    "ax.set_aspect('equal')\n",
    "\n",
    "gear = RingGear(module, n_teeth, width=5.0, rim_width=1.5,\n",
    "                pressure_angle=pressure_angle)\n",
    "x, y = gear.gear_points_xy()\n",
    "ax.plot(x, y, label='gear profile', color='C0')\n",
    "\n",
    "circles = (\n",
    "    (gear.r0, 'pitch circle'),\n",
    "    (gear.ra, 'addendum circle'),\n",
    "    (gear.rb, 'base circle'),\n",
    "    (gear.rd, 'dedendum circle'),\n",
    ")\n",
    "\n",
    "t = np.linspace(0.0, np.pi * 2.0, 200)\n",
    "\n",
    "for r, lbl in circles:\n",
    "    cx = np.cos(t) * r\n",
    "    cy = np.sin(t) * r\n",
    "    ax.plot(cx, cy, label=lbl, linestyle='--', linewidth=0.8)\n",
    "\n",
    "cx = np.cos(t) * gear.rim_r\n",
    "cy = np.sin(t) * gear.rim_r\n",
    "ax.plot(cx, cy, color='C0')\n",
    "\n",
    "plt.legend(loc='center')\n",
    "plt.show()"
   ]
  },
  {
   "cell_type": "markdown",
   "id": "a821b203-122e-4d29-92b8-2ea4eba39bd0",
   "metadata": {},
   "source": [
    "## Spur and Ring gears meshing together"
   ]
  },
  {
   "cell_type": "code",
   "execution_count": 3,
   "id": "f6ee1c3f-006e-4114-b994-005b74bcadc7",
   "metadata": {},
   "outputs": [
    {
     "data": {
      "application/vnd.jupyter.widget-view+json": {
       "model_id": "8eb3a361020a483f9f62d9aa0660c8b5",
       "version_major": 2,
       "version_minor": 0
      },
      "text/plain": [
       "Canvas(toolbar=Toolbar(toolitems=[('Home', 'Reset original view', 'home', 'home'), ('Back', 'Back to previous …"
      ]
     },
     "metadata": {},
     "output_type": "display_data"
    }
   ],
   "source": [
    "module = 1.0\n",
    "n_teeth = (40, 14)\n",
    "pressure_angle = 20.0\n",
    "\n",
    "fig, ax = plt.subplots(figsize=(8, 8))\n",
    "ax.set_aspect('equal')\n",
    "\n",
    "ring = RingGear(module, n_teeth[0], 5.0, rim_width=5.0,\n",
    "                pressure_angle=pressure_angle)\n",
    "\n",
    "planet = SpurGear(module, n_teeth[1], 5.0,\n",
    "                  pressure_angle=pressure_angle)\n",
    "\n",
    "orbit_r = ring.r0 - planet.r0\n",
    "sun_z = n_teeth[0] - n_teeth[1] * 2\n",
    "ratio = 1.0 / ((n_teeth[1] / sun_z) * 2.0)\n",
    "c_ratio = 1.0 / (n_teeth[0] / sun_z + 1)\n",
    "\n",
    "def plot_gears(frame):\n",
    "    ax.clear()\n",
    "\n",
    "    a1 = np.pi * 2.0 / 200.0 * frame * ratio\n",
    "    a2 = np.pi * 2.0 / 200.0 * frame * c_ratio\n",
    "    \n",
    "    x, y = ring.gear_points_xy()\n",
    "    ax.plot(x, y)\n",
    "    \n",
    "    x, y = planet.gear_points_xy()\n",
    "    x, y = rotate_xy(x, y, -a1)\n",
    "    \n",
    "    x += np.cos(a2) * orbit_r\n",
    "    y += np.sin(a2) * orbit_r\n",
    "    ax.plot(x, y)\n",
    "    \n",
    "# anim = animation.FuncAnimation(fig, plot_gears, 400, interval=25)    \n",
    "plot_gears(frame=120)\n",
    "\n",
    "plt.show()"
   ]
  },
  {
   "cell_type": "code",
   "execution_count": null,
   "id": "f27e068f-0358-409c-93f2-c6b95846c39c",
   "metadata": {},
   "outputs": [],
   "source": []
  }
 ],
 "metadata": {
  "kernelspec": {
   "display_name": "Python 3",
   "language": "python",
   "name": "python3"
  },
  "language_info": {
   "codemirror_mode": {
    "name": "ipython",
    "version": 3
   },
   "file_extension": ".py",
   "mimetype": "text/x-python",
   "name": "python",
   "nbconvert_exporter": "python",
   "pygments_lexer": "ipython3",
   "version": "3.9.6"
  }
 },
 "nbformat": 4,
 "nbformat_minor": 5
}
